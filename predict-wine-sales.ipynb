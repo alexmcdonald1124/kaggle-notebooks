{
 "cells": [
  {
   "cell_type": "code",
   "execution_count": 1,
   "id": "860a232b",
   "metadata": {
    "execution": {
     "iopub.execute_input": "2022-06-01T02:03:11.866971Z",
     "iopub.status.busy": "2022-06-01T02:03:11.866499Z",
     "iopub.status.idle": "2022-06-01T02:03:12.924158Z",
     "shell.execute_reply": "2022-06-01T02:03:12.923218Z"
    },
    "papermill": {
     "duration": 1.066576,
     "end_time": "2022-06-01T02:03:12.926829",
     "exception": false,
     "start_time": "2022-06-01T02:03:11.860253",
     "status": "completed"
    },
    "tags": []
   },
   "outputs": [],
   "source": [
    "import pandas as pd\n",
    "import seaborn as sns\n",
    "import numpy as np\n",
    "import matplotlib.pyplot as plt\n",
    "%matplotlib inline"
   ]
  },
  {
   "cell_type": "code",
   "execution_count": 2,
   "id": "46db8177",
   "metadata": {
    "execution": {
     "iopub.execute_input": "2022-06-01T02:03:12.938298Z",
     "iopub.status.busy": "2022-06-01T02:03:12.937934Z",
     "iopub.status.idle": "2022-06-01T02:03:12.993002Z",
     "shell.execute_reply": "2022-06-01T02:03:12.992079Z"
    },
    "papermill": {
     "duration": 0.062551,
     "end_time": "2022-06-01T02:03:12.995619",
     "exception": false,
     "start_time": "2022-06-01T02:03:12.933068",
     "status": "completed"
    },
    "tags": []
   },
   "outputs": [],
   "source": [
    "df = pd.read_csv(\"../input/predict-wine-sales-2022/logit_wine_train.csv\")"
   ]
  },
  {
   "cell_type": "code",
   "execution_count": 3,
   "id": "06a38906",
   "metadata": {
    "execution": {
     "iopub.execute_input": "2022-06-01T02:03:13.004492Z",
     "iopub.status.busy": "2022-06-01T02:03:13.004161Z",
     "iopub.status.idle": "2022-06-01T02:03:13.029888Z",
     "shell.execute_reply": "2022-06-01T02:03:13.029071Z"
    },
    "papermill": {
     "duration": 0.03332,
     "end_time": "2022-06-01T02:03:13.032722",
     "exception": false,
     "start_time": "2022-06-01T02:03:12.999402",
     "status": "completed"
    },
    "tags": []
   },
   "outputs": [
    {
     "data": {
      "text/html": [
       "<div>\n",
       "<style scoped>\n",
       "    .dataframe tbody tr th:only-of-type {\n",
       "        vertical-align: middle;\n",
       "    }\n",
       "\n",
       "    .dataframe tbody tr th {\n",
       "        vertical-align: top;\n",
       "    }\n",
       "\n",
       "    .dataframe thead th {\n",
       "        text-align: right;\n",
       "    }\n",
       "</style>\n",
       "<table border=\"1\" class=\"dataframe\">\n",
       "  <thead>\n",
       "    <tr style=\"text-align: right;\">\n",
       "      <th></th>\n",
       "      <th>INDEX</th>\n",
       "      <th>TARGET</th>\n",
       "      <th>FixedAcidity</th>\n",
       "      <th>VolatileAcidity</th>\n",
       "      <th>CitricAcid</th>\n",
       "      <th>ResidualSugar</th>\n",
       "      <th>Chlorides</th>\n",
       "      <th>FreeSulfurDioxide</th>\n",
       "      <th>TotalSulfurDioxide</th>\n",
       "      <th>Density</th>\n",
       "      <th>pH</th>\n",
       "      <th>Sulphates</th>\n",
       "      <th>Alcohol</th>\n",
       "      <th>LabelAppeal</th>\n",
       "      <th>AcidIndex</th>\n",
       "      <th>STARS</th>\n",
       "    </tr>\n",
       "  </thead>\n",
       "  <tbody>\n",
       "    <tr>\n",
       "      <th>0</th>\n",
       "      <td>1</td>\n",
       "      <td>1</td>\n",
       "      <td>3.2</td>\n",
       "      <td>1.160</td>\n",
       "      <td>-0.98</td>\n",
       "      <td>54.2</td>\n",
       "      <td>-0.567</td>\n",
       "      <td>NaN</td>\n",
       "      <td>268.0</td>\n",
       "      <td>0.99280</td>\n",
       "      <td>3.33</td>\n",
       "      <td>-0.59</td>\n",
       "      <td>9.9</td>\n",
       "      <td>0</td>\n",
       "      <td>8</td>\n",
       "      <td>2.0</td>\n",
       "    </tr>\n",
       "    <tr>\n",
       "      <th>1</th>\n",
       "      <td>2</td>\n",
       "      <td>1</td>\n",
       "      <td>4.5</td>\n",
       "      <td>0.160</td>\n",
       "      <td>-0.81</td>\n",
       "      <td>26.1</td>\n",
       "      <td>-0.425</td>\n",
       "      <td>15.0</td>\n",
       "      <td>-327.0</td>\n",
       "      <td>1.02792</td>\n",
       "      <td>3.38</td>\n",
       "      <td>0.70</td>\n",
       "      <td>NaN</td>\n",
       "      <td>-1</td>\n",
       "      <td>7</td>\n",
       "      <td>3.0</td>\n",
       "    </tr>\n",
       "    <tr>\n",
       "      <th>2</th>\n",
       "      <td>4</td>\n",
       "      <td>1</td>\n",
       "      <td>7.1</td>\n",
       "      <td>2.640</td>\n",
       "      <td>-0.88</td>\n",
       "      <td>14.8</td>\n",
       "      <td>0.037</td>\n",
       "      <td>214.0</td>\n",
       "      <td>142.0</td>\n",
       "      <td>0.99518</td>\n",
       "      <td>3.12</td>\n",
       "      <td>0.48</td>\n",
       "      <td>22.0</td>\n",
       "      <td>-1</td>\n",
       "      <td>8</td>\n",
       "      <td>3.0</td>\n",
       "    </tr>\n",
       "    <tr>\n",
       "      <th>3</th>\n",
       "      <td>5</td>\n",
       "      <td>1</td>\n",
       "      <td>5.7</td>\n",
       "      <td>0.385</td>\n",
       "      <td>0.04</td>\n",
       "      <td>18.8</td>\n",
       "      <td>-0.425</td>\n",
       "      <td>22.0</td>\n",
       "      <td>115.0</td>\n",
       "      <td>0.99640</td>\n",
       "      <td>2.24</td>\n",
       "      <td>1.83</td>\n",
       "      <td>6.2</td>\n",
       "      <td>-1</td>\n",
       "      <td>6</td>\n",
       "      <td>1.0</td>\n",
       "    </tr>\n",
       "    <tr>\n",
       "      <th>4</th>\n",
       "      <td>6</td>\n",
       "      <td>1</td>\n",
       "      <td>8.0</td>\n",
       "      <td>0.330</td>\n",
       "      <td>-1.26</td>\n",
       "      <td>9.4</td>\n",
       "      <td>NaN</td>\n",
       "      <td>-167.0</td>\n",
       "      <td>108.0</td>\n",
       "      <td>0.99457</td>\n",
       "      <td>3.12</td>\n",
       "      <td>1.77</td>\n",
       "      <td>13.7</td>\n",
       "      <td>0</td>\n",
       "      <td>9</td>\n",
       "      <td>2.0</td>\n",
       "    </tr>\n",
       "  </tbody>\n",
       "</table>\n",
       "</div>"
      ],
      "text/plain": [
       "   INDEX  TARGET  FixedAcidity  VolatileAcidity  CitricAcid  ResidualSugar  \\\n",
       "0      1       1           3.2            1.160       -0.98           54.2   \n",
       "1      2       1           4.5            0.160       -0.81           26.1   \n",
       "2      4       1           7.1            2.640       -0.88           14.8   \n",
       "3      5       1           5.7            0.385        0.04           18.8   \n",
       "4      6       1           8.0            0.330       -1.26            9.4   \n",
       "\n",
       "   Chlorides  FreeSulfurDioxide  TotalSulfurDioxide  Density    pH  Sulphates  \\\n",
       "0     -0.567                NaN               268.0  0.99280  3.33      -0.59   \n",
       "1     -0.425               15.0              -327.0  1.02792  3.38       0.70   \n",
       "2      0.037              214.0               142.0  0.99518  3.12       0.48   \n",
       "3     -0.425               22.0               115.0  0.99640  2.24       1.83   \n",
       "4        NaN             -167.0               108.0  0.99457  3.12       1.77   \n",
       "\n",
       "   Alcohol  LabelAppeal  AcidIndex  STARS  \n",
       "0      9.9            0          8    2.0  \n",
       "1      NaN           -1          7    3.0  \n",
       "2     22.0           -1          8    3.0  \n",
       "3      6.2           -1          6    1.0  \n",
       "4     13.7            0          9    2.0  "
      ]
     },
     "execution_count": 3,
     "metadata": {},
     "output_type": "execute_result"
    }
   ],
   "source": [
    "df.head()"
   ]
  },
  {
   "cell_type": "code",
   "execution_count": 4,
   "id": "f99a8f28",
   "metadata": {
    "execution": {
     "iopub.execute_input": "2022-06-01T02:03:13.042353Z",
     "iopub.status.busy": "2022-06-01T02:03:13.041645Z",
     "iopub.status.idle": "2022-06-01T02:03:13.189714Z",
     "shell.execute_reply": "2022-06-01T02:03:13.188856Z"
    },
    "papermill": {
     "duration": 0.154768,
     "end_time": "2022-06-01T02:03:13.191540",
     "exception": false,
     "start_time": "2022-06-01T02:03:13.036772",
     "status": "completed"
    },
    "tags": []
   },
   "outputs": [
    {
     "name": "stderr",
     "output_type": "stream",
     "text": [
      "/opt/conda/lib/python3.7/site-packages/seaborn/_decorators.py:43: FutureWarning: Pass the following variable as a keyword arg: x. From version 0.12, the only valid positional argument will be `data`, and passing other arguments without an explicit keyword will result in an error or misinterpretation.\n",
      "  FutureWarning\n"
     ]
    },
    {
     "data": {
      "text/plain": [
       "<AxesSubplot:xlabel='TARGET', ylabel='count'>"
      ]
     },
     "execution_count": 4,
     "metadata": {},
     "output_type": "execute_result"
    },
    {
     "data": {
      "image/png": "[encoded data removed]",
      "text/plain": [
       "<Figure size 432x288 with 1 Axes>"
      ]
     },
     "metadata": {
      "needs_background": "light"
     },
     "output_type": "display_data"
    }
   ],
   "source": [
    "sns.countplot(df[\"TARGET\"], label=\"Count\")"
   ]
  },
  {
   "cell_type": "code",
   "execution_count": 5,
   "id": "b43bf158",
   "metadata": {
    "execution": {
     "iopub.execute_input": "2022-06-01T02:03:13.202203Z",
     "iopub.status.busy": "2022-06-01T02:03:13.201337Z",
     "iopub.status.idle": "2022-06-01T02:03:13.223141Z",
     "shell.execute_reply": "2022-06-01T02:03:13.221809Z"
    },
    "papermill": {
     "duration": 0.029487,
     "end_time": "2022-06-01T02:03:13.225517",
     "exception": false,
     "start_time": "2022-06-01T02:03:13.196030",
     "status": "completed"
    },
    "tags": []
   },
   "outputs": [
    {
     "name": "stdout",
     "output_type": "stream",
     "text": [
      "[{'INDEX': 12795}, {'TARGET': 2}, {'FixedAcidity': 470}, {'VolatileAcidity': 815}, {'CitricAcid': 602}, {'ResidualSugar': 2077}, {'Chlorides': 1663}, {'FreeSulfurDioxide': 999}, {'TotalSulfurDioxide': 1370}, {'Density': 5933}, {'pH': 497}, {'Sulphates': 630}, {'Alcohol': 401}, {'LabelAppeal': 5}, {'AcidIndex': 14}, {'STARS': 4}]\n"
     ]
    }
   ],
   "source": [
    "cardinality = [{df[col].name: len(pd.Index(df[col]).value_counts())} for col in df]\n",
    "print(cardinality)"
   ]
  },
  {
   "cell_type": "code",
   "execution_count": 6,
   "id": "ea9a5eae",
   "metadata": {
    "execution": {
     "iopub.execute_input": "2022-06-01T02:03:13.236798Z",
     "iopub.status.busy": "2022-06-01T02:03:13.235962Z",
     "iopub.status.idle": "2022-06-01T02:03:13.241024Z",
     "shell.execute_reply": "2022-06-01T02:03:13.240181Z"
    },
    "papermill": {
     "duration": 0.012159,
     "end_time": "2022-06-01T02:03:13.242721",
     "exception": false,
     "start_time": "2022-06-01T02:03:13.230562",
     "status": "completed"
    },
    "tags": []
   },
   "outputs": [
    {
     "name": "stdout",
     "output_type": "stream",
     "text": [
      "{dtype('float64'), dtype('int64')}\n"
     ]
    }
   ],
   "source": [
    "print(set([type_ for type_ in df.dtypes]))"
   ]
  },
  {
   "cell_type": "code",
   "execution_count": 7,
   "id": "6d6d885d",
   "metadata": {
    "execution": {
     "iopub.execute_input": "2022-06-01T02:03:13.252941Z",
     "iopub.status.busy": "2022-06-01T02:03:13.252556Z",
     "iopub.status.idle": "2022-06-01T02:03:13.259047Z",
     "shell.execute_reply": "2022-06-01T02:03:13.258107Z"
    },
    "papermill": {
     "duration": 0.013735,
     "end_time": "2022-06-01T02:03:13.260827",
     "exception": false,
     "start_time": "2022-06-01T02:03:13.247092",
     "status": "completed"
    },
    "tags": []
   },
   "outputs": [],
   "source": [
    "df = df.drop(columns=[\"INDEX\"])"
   ]
  },
  {
   "cell_type": "code",
   "execution_count": 8,
   "id": "5c9815f7",
   "metadata": {
    "execution": {
     "iopub.execute_input": "2022-06-01T02:03:13.270927Z",
     "iopub.status.busy": "2022-06-01T02:03:13.270286Z",
     "iopub.status.idle": "2022-06-01T02:03:13.290834Z",
     "shell.execute_reply": "2022-06-01T02:03:13.289951Z"
    },
    "papermill": {
     "duration": 0.027733,
     "end_time": "2022-06-01T02:03:13.292923",
     "exception": false,
     "start_time": "2022-06-01T02:03:13.265190",
     "status": "completed"
    },
    "tags": []
   },
   "outputs": [],
   "source": [
    "# Clean the data with NaN values\n",
    "for column in df.loc[:, df.isna().any()]:\n",
    "    df = df.fillna(df[[column]].mean())"
   ]
  },
  {
   "cell_type": "code",
   "execution_count": 9,
   "id": "3dd372b9",
   "metadata": {
    "execution": {
     "iopub.execute_input": "2022-06-01T02:03:13.303356Z",
     "iopub.status.busy": "2022-06-01T02:03:13.303027Z",
     "iopub.status.idle": "2022-06-01T02:03:13.516995Z",
     "shell.execute_reply": "2022-06-01T02:03:13.516077Z"
    },
    "papermill": {
     "duration": 0.22223,
     "end_time": "2022-06-01T02:03:13.519746",
     "exception": false,
     "start_time": "2022-06-01T02:03:13.297516",
     "status": "completed"
    },
    "tags": []
   },
   "outputs": [],
   "source": [
    "from sklearn.model_selection import train_test_split\n",
    "\n",
    "X_train, X_test, y_train, y_test = train_test_split(df.loc[:, df.columns != \"TARGET\"], df[\"TARGET\"], stratify=df[\"TARGET\"], random_state=66)\n"
   ]
  },
  {
   "cell_type": "code",
   "execution_count": 10,
   "id": "d2f28d2b",
   "metadata": {
    "execution": {
     "iopub.execute_input": "2022-06-01T02:03:13.530404Z",
     "iopub.status.busy": "2022-06-01T02:03:13.529543Z",
     "iopub.status.idle": "2022-06-01T02:03:13.958264Z",
     "shell.execute_reply": "2022-06-01T02:03:13.956954Z"
    },
    "papermill": {
     "duration": 0.436998,
     "end_time": "2022-06-01T02:03:13.961195",
     "exception": false,
     "start_time": "2022-06-01T02:03:13.524197",
     "status": "completed"
    },
    "tags": []
   },
   "outputs": [
    {
     "name": "stdout",
     "output_type": "stream",
     "text": [
      "Accuracy on training set: 0.994\n",
      "Accuracy on test set: 0.838\n"
     ]
    }
   ],
   "source": [
    "from sklearn.ensemble import RandomForestClassifier\n",
    "\n",
    "rf = RandomForestClassifier(n_estimators=10, random_state=0)\n",
    "rf.fit(X_train, y_train)\n",
    "print(\"Accuracy on training set: {:.3f}\".format(rf.score(X_train, y_train)))\n",
    "print(\"Accuracy on test set: {:.3f}\".format(rf.score(X_test, y_test)))"
   ]
  },
  {
   "cell_type": "code",
   "execution_count": 11,
   "id": "10aeb17b",
   "metadata": {
    "execution": {
     "iopub.execute_input": "2022-06-01T02:03:13.972163Z",
     "iopub.status.busy": "2022-06-01T02:03:13.971797Z",
     "iopub.status.idle": "2022-06-01T02:03:23.670811Z",
     "shell.execute_reply": "2022-06-01T02:03:23.669571Z"
    },
    "papermill": {
     "duration": 9.707062,
     "end_time": "2022-06-01T02:03:23.673492",
     "exception": false,
     "start_time": "2022-06-01T02:03:13.966430",
     "status": "completed"
    },
    "tags": []
   },
   "outputs": [
    {
     "name": "stdout",
     "output_type": "stream",
     "text": [
      "Training set accuracy: 0.786\n",
      "Test set accuracy: 0.786\n"
     ]
    }
   ],
   "source": [
    "from sklearn.svm import SVC\n",
    "\n",
    "svc = SVC(random_state=1)\n",
    "svc.fit(X_train, y_train)\n",
    "print(\"Training set accuracy: {:.3f}\".format(svc.score(X_train, y_train)))\n",
    "print(\"Test set accuracy: {:.3f}\".format(svc.score(X_test, y_test)))"
   ]
  },
  {
   "cell_type": "code",
   "execution_count": 12,
   "id": "38a87164",
   "metadata": {
    "execution": {
     "iopub.execute_input": "2022-06-01T02:03:23.685010Z",
     "iopub.status.busy": "2022-06-01T02:03:23.684651Z",
     "iopub.status.idle": "2022-06-01T02:03:23.688983Z",
     "shell.execute_reply": "2022-06-01T02:03:23.688184Z"
    },
    "papermill": {
     "duration": 0.011785,
     "end_time": "2022-06-01T02:03:23.690736",
     "exception": false,
     "start_time": "2022-06-01T02:03:23.678951",
     "status": "completed"
    },
    "tags": []
   },
   "outputs": [],
   "source": [
    "wine_features = [x for i,x in enumerate(df.columns) if x != \"TARGET\"]"
   ]
  },
  {
   "cell_type": "code",
   "execution_count": 13,
   "id": "a554fb5c",
   "metadata": {
    "execution": {
     "iopub.execute_input": "2022-06-01T02:03:23.700891Z",
     "iopub.status.busy": "2022-06-01T02:03:23.700572Z",
     "iopub.status.idle": "2022-06-01T02:03:23.706256Z",
     "shell.execute_reply": "2022-06-01T02:03:23.705602Z"
    },
    "papermill": {
     "duration": 0.012496,
     "end_time": "2022-06-01T02:03:23.707718",
     "exception": false,
     "start_time": "2022-06-01T02:03:23.695222",
     "status": "completed"
    },
    "tags": []
   },
   "outputs": [],
   "source": [
    "def plot_feature_importances(model):\n",
    "    plt.figure(figsize=(8,6))\n",
    "    n_features = 14\n",
    "    plt.barh(range(n_features), model.feature_importances_, align='center')\n",
    "    plt.yticks(np.arange(n_features), wine_features)\n",
    "    plt.xlabel(\"Feature importance\")\n",
    "    plt.ylabel(\"Feature\")\n",
    "    plt.ylim(-1, n_features)"
   ]
  },
  {
   "cell_type": "code",
   "execution_count": 14,
   "id": "b66e419a",
   "metadata": {
    "execution": {
     "iopub.execute_input": "2022-06-01T02:03:23.717884Z",
     "iopub.status.busy": "2022-06-01T02:03:23.717249Z",
     "iopub.status.idle": "2022-06-01T02:03:23.882171Z",
     "shell.execute_reply": "2022-06-01T02:03:23.881411Z"
    },
    "papermill": {
     "duration": 0.171809,
     "end_time": "2022-06-01T02:03:23.883886",
     "exception": false,
     "start_time": "2022-06-01T02:03:23.712077",
     "status": "completed"
    },
    "tags": []
   },
   "outputs": [
    {
     "data": {
      "image/png": "[encoded data removed]",
      "text/plain": [
       "<Figure size 576x432 with 1 Axes>"
      ]
     },
     "metadata": {
      "needs_background": "light"
     },
     "output_type": "display_data"
    }
   ],
   "source": [
    "plot_feature_importances(rf)"
   ]
  },
  {
   "cell_type": "code",
   "execution_count": 15,
   "id": "827e7f69",
   "metadata": {
    "execution": {
     "iopub.execute_input": "2022-06-01T02:03:23.894871Z",
     "iopub.status.busy": "2022-06-01T02:03:23.894235Z",
     "iopub.status.idle": "2022-06-01T02:03:24.009403Z",
     "shell.execute_reply": "2022-06-01T02:03:24.008552Z"
    },
    "papermill": {
     "duration": 0.12275,
     "end_time": "2022-06-01T02:03:24.011350",
     "exception": false,
     "start_time": "2022-06-01T02:03:23.888600",
     "status": "completed"
    },
    "tags": []
   },
   "outputs": [
    {
     "data": {
      "text/plain": [
       "Text(0, 0.5, 'Churn Probability')"
      ]
     },
     "execution_count": 15,
     "metadata": {},
     "output_type": "execute_result"
    },
    {
     "data": {
      "image/png": "[encoded data removed]",
      "text/plain": [
       "<Figure size 1080x288 with 1 Axes>"
      ]
     },
     "metadata": {
      "needs_background": "light"
     },
     "output_type": "display_data"
    }
   ],
   "source": [
    "target_1 = df[(df[\"TARGET\"] == 1)][\"STARS\"].mean()\n",
    "target_0 = df[(df[\"TARGET\"] == 0)][\"STARS\"].mean()\n",
    "plt.figure(figsize=(15,4))\n",
    "n_features = 2\n",
    "plt.barh(range(n_features), [target_1, target_0], align=\"center\", color=[\"blue\", \"orange\"])\n",
    "plt.yticks(np.arange(n_features), [\"Sold\", \"Not Sold\"])\n",
    "plt.xlabel(\"Average Stars Per Wine\")\n",
    "plt.ylabel(\"Churn Probability\")"
   ]
  },
  {
   "cell_type": "code",
   "execution_count": 16,
   "id": "2c41b053",
   "metadata": {
    "execution": {
     "iopub.execute_input": "2022-06-01T02:03:24.023394Z",
     "iopub.status.busy": "2022-06-01T02:03:24.022761Z",
     "iopub.status.idle": "2022-06-01T02:03:24.144485Z",
     "shell.execute_reply": "2022-06-01T02:03:24.143634Z"
    },
    "papermill": {
     "duration": 0.131329,
     "end_time": "2022-06-01T02:03:24.147892",
     "exception": false,
     "start_time": "2022-06-01T02:03:24.016563",
     "status": "completed"
    },
    "tags": []
   },
   "outputs": [
    {
     "name": "stdout",
     "output_type": "stream",
     "text": [
      "Training set accuracy: 0.801\n",
      "Test set accuracy: 0.800\n"
     ]
    }
   ],
   "source": [
    "from sklearn.datasets import make_classification\n",
    "from sklearn.linear_model import LogisticRegression\n",
    "from sklearn.model_selection import train_test_split\n",
    "from sklearn.pipeline import make_pipeline\n",
    "from sklearn.preprocessing import StandardScaler\n",
    "\n",
    "X, y = make_classification(random_state=42)\n",
    "X_train, X_test, y_train, y_test = train_test_split(df.loc[:, df.columns != \"TARGET\"], df[\"TARGET\"], stratify=df[\"TARGET\"], random_state=42)\n",
    "pipe = make_pipeline(StandardScaler(), LogisticRegression())\n",
    "pipe.fit(X_train, y_train)\n",
    "\n",
    "print(\"Training set accuracy: {:.3f}\".format(pipe.score(X_train, y_train)))\n",
    "print(\"Test set accuracy: {:.3f}\".format(pipe.score(X_test, y_test)))"
   ]
  }
 ],
 "metadata": {
  "kernelspec": {
   "display_name": "Python 3",
   "language": "python",
   "name": "python3"
  },
  "language_info": {
   "codemirror_mode": {
    "name": "ipython",
    "version": 3
   },
   "file_extension": ".py",
   "mimetype": "text/x-python",
   "name": "python",
   "nbconvert_exporter": "python",
   "pygments_lexer": "ipython3",
   "version": "3.7.12"
  },
  "papermill": {
   "default_parameters": {},
   "duration": 21.404481,
   "end_time": "2022-06-01T02:03:24.879629",
   "environment_variables": {},
   "exception": null,
   "input_path": "__notebook__.ipynb",
   "output_path": "__notebook__.ipynb",
   "parameters": {},
   "start_time": "2022-06-01T02:03:03.475148",
   "version": "2.3.4"
  }
 },
 "nbformat": 4,
 "nbformat_minor": 5
}
