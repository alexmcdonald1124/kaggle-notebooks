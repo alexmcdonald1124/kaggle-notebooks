{
 "cells": [
  {
   "cell_type": "code",
   "execution_count": 1,
   "id": "e7c3bdd0",
   "metadata": {
    "execution": {
     "iopub.execute_input": "2022-10-26T02:44:09.842902Z",
     "iopub.status.busy": "2022-10-26T02:44:09.842167Z",
     "iopub.status.idle": "2022-10-26T02:44:11.833192Z",
     "shell.execute_reply": "2022-10-26T02:44:11.832112Z"
    },
    "papermill": {
     "duration": 2.009255,
     "end_time": "2022-10-26T02:44:11.836166",
     "exception": false,
     "start_time": "2022-10-26T02:44:09.826911",
     "status": "completed"
    },
    "tags": []
   },
   "outputs": [
    {
     "name": "stderr",
     "output_type": "stream",
     "text": [
      "[nltk_data] Downloading package punkt to /usr/share/nltk_data...\n",
      "[nltk_data]   Package punkt is already up-to-date!\n",
      "[nltk_data] Downloading package omw-1.4 to /usr/share/nltk_data...\n"
     ]
    }
   ],
   "source": [
    "import pandas as pd\n",
    "import matplotlib.pyplot as plt\n",
    "\n",
    "from sklearn.feature_extraction.text import TfidfVectorizer\n",
    "from sklearn.metrics.pairwise import linear_kernel\n",
    "\n",
    "import nltk\n",
    "from nltk.corpus import stopwords\n",
    "nltk.download('punkt')\n",
    "stop_words = set(stopwords.words('english')) \n",
    "\n",
    "from nltk.tokenize import word_tokenize          \n",
    "from nltk.stem import WordNetLemmatizer\n",
    "nltk.download('omw-1.4')\n",
    "\n",
    "import string\n",
    "\n",
    "from IPython.core.display import display, HTML"
   ]
  },
  {
   "cell_type": "markdown",
   "id": "cf5455f4",
   "metadata": {
    "papermill": {
     "duration": 0.012442,
     "end_time": "2022-10-26T02:44:11.863769",
     "exception": false,
     "start_time": "2022-10-26T02:44:11.851327",
     "status": "completed"
    },
    "tags": []
   },
   "source": [
    "# Data Exploration Objectives\n",
    "\n",
    "* Get the essay length in words\n",
    "* Find all stopwords and non-stopwords\n",
    "* Build a ratio of the percentage of stopwords to non-stopwords (i.e. stopwords / essay length)\n",
    "* Build a metric for average length of words\n",
    "* Build a metric for average length of sentences\n",
    "* Get an overall average score across the 6 categories\n",
    "* Find the average distribution for each category (i.e. histogram)\n",
    "* Prune the data to remove fields like text_id due to max cardinality"
   ]
  },
  {
   "cell_type": "code",
   "execution_count": 2,
   "id": "6a6c5dba",
   "metadata": {
    "execution": {
     "iopub.execute_input": "2022-10-26T02:44:11.890193Z",
     "iopub.status.busy": "2022-10-26T02:44:11.889809Z",
     "iopub.status.idle": "2022-10-26T02:44:12.101680Z",
     "shell.execute_reply": "2022-10-26T02:44:12.100670Z"
    },
    "papermill": {
     "duration": 0.227271,
     "end_time": "2022-10-26T02:44:12.103612",
     "exception": false,
     "start_time": "2022-10-26T02:44:11.876341",
     "status": "completed"
    },
    "tags": []
   },
   "outputs": [
    {
     "data": {
      "text/plain": [
       "(3911, 8)"
      ]
     },
     "execution_count": 2,
     "metadata": {},
     "output_type": "execute_result"
    }
   ],
   "source": [
    "csv = \"/kaggle/input/feedback-prize-english-language-learning/train.csv\"\n",
    "df = pd.read_csv(csv)\n",
    "df.shape"
   ]
  },
  {
   "cell_type": "code",
   "execution_count": 3,
   "id": "fb1cae4d",
   "metadata": {
    "execution": {
     "iopub.execute_input": "2022-10-26T02:44:12.131884Z",
     "iopub.status.busy": "2022-10-26T02:44:12.131149Z",
     "iopub.status.idle": "2022-10-26T02:44:12.174736Z",
     "shell.execute_reply": "2022-10-26T02:44:12.174108Z"
    },
    "papermill": {
     "duration": 0.062095,
     "end_time": "2022-10-26T02:44:12.178531",
     "exception": false,
     "start_time": "2022-10-26T02:44:12.116436",
     "status": "completed"
    },
    "tags": []
   },
   "outputs": [
    {
     "data": {
      "text/html": [
       "<div>\n",
       "<style scoped>\n",
       "    .dataframe tbody tr th:only-of-type {\n",
       "        vertical-align: middle;\n",
       "    }\n",
       "\n",
       "    .dataframe tbody tr th {\n",
       "        vertical-align: top;\n",
       "    }\n",
       "\n",
       "    .dataframe thead th {\n",
       "        text-align: right;\n",
       "    }\n",
       "</style>\n",
       "<table border=\"1\" class=\"dataframe\">\n",
       "  <thead>\n",
       "    <tr style=\"text-align: right;\">\n",
       "      <th></th>\n",
       "      <th>cohesion</th>\n",
       "      <th>syntax</th>\n",
       "      <th>vocabulary</th>\n",
       "      <th>phraseology</th>\n",
       "      <th>grammar</th>\n",
       "      <th>conventions</th>\n",
       "    </tr>\n",
       "  </thead>\n",
       "  <tbody>\n",
       "    <tr>\n",
       "      <th>count</th>\n",
       "      <td>3911.000000</td>\n",
       "      <td>3911.000000</td>\n",
       "      <td>3911.000000</td>\n",
       "      <td>3911.000000</td>\n",
       "      <td>3911.000000</td>\n",
       "      <td>3911.000000</td>\n",
       "    </tr>\n",
       "    <tr>\n",
       "      <th>mean</th>\n",
       "      <td>3.127077</td>\n",
       "      <td>3.028254</td>\n",
       "      <td>3.235745</td>\n",
       "      <td>3.116850</td>\n",
       "      <td>3.032856</td>\n",
       "      <td>3.081053</td>\n",
       "    </tr>\n",
       "    <tr>\n",
       "      <th>std</th>\n",
       "      <td>0.662542</td>\n",
       "      <td>0.644399</td>\n",
       "      <td>0.583148</td>\n",
       "      <td>0.655997</td>\n",
       "      <td>0.699841</td>\n",
       "      <td>0.671450</td>\n",
       "    </tr>\n",
       "    <tr>\n",
       "      <th>min</th>\n",
       "      <td>1.000000</td>\n",
       "      <td>1.000000</td>\n",
       "      <td>1.000000</td>\n",
       "      <td>1.000000</td>\n",
       "      <td>1.000000</td>\n",
       "      <td>1.000000</td>\n",
       "    </tr>\n",
       "    <tr>\n",
       "      <th>25%</th>\n",
       "      <td>2.500000</td>\n",
       "      <td>2.500000</td>\n",
       "      <td>3.000000</td>\n",
       "      <td>2.500000</td>\n",
       "      <td>2.500000</td>\n",
       "      <td>2.500000</td>\n",
       "    </tr>\n",
       "    <tr>\n",
       "      <th>50%</th>\n",
       "      <td>3.000000</td>\n",
       "      <td>3.000000</td>\n",
       "      <td>3.000000</td>\n",
       "      <td>3.000000</td>\n",
       "      <td>3.000000</td>\n",
       "      <td>3.000000</td>\n",
       "    </tr>\n",
       "    <tr>\n",
       "      <th>75%</th>\n",
       "      <td>3.500000</td>\n",
       "      <td>3.500000</td>\n",
       "      <td>3.500000</td>\n",
       "      <td>3.500000</td>\n",
       "      <td>3.500000</td>\n",
       "      <td>3.500000</td>\n",
       "    </tr>\n",
       "    <tr>\n",
       "      <th>max</th>\n",
       "      <td>5.000000</td>\n",
       "      <td>5.000000</td>\n",
       "      <td>5.000000</td>\n",
       "      <td>5.000000</td>\n",
       "      <td>5.000000</td>\n",
       "      <td>5.000000</td>\n",
       "    </tr>\n",
       "  </tbody>\n",
       "</table>\n",
       "</div>"
      ],
      "text/plain": [
       "          cohesion       syntax   vocabulary  phraseology      grammar  \\\n",
       "count  3911.000000  3911.000000  3911.000000  3911.000000  3911.000000   \n",
       "mean      3.127077     3.028254     3.235745     3.116850     3.032856   \n",
       "std       0.662542     0.644399     0.583148     0.655997     0.699841   \n",
       "min       1.000000     1.000000     1.000000     1.000000     1.000000   \n",
       "25%       2.500000     2.500000     3.000000     2.500000     2.500000   \n",
       "50%       3.000000     3.000000     3.000000     3.000000     3.000000   \n",
       "75%       3.500000     3.500000     3.500000     3.500000     3.500000   \n",
       "max       5.000000     5.000000     5.000000     5.000000     5.000000   \n",
       "\n",
       "       conventions  \n",
       "count  3911.000000  \n",
       "mean      3.081053  \n",
       "std       0.671450  \n",
       "min       1.000000  \n",
       "25%       2.500000  \n",
       "50%       3.000000  \n",
       "75%       3.500000  \n",
       "max       5.000000  "
      ]
     },
     "execution_count": 3,
     "metadata": {},
     "output_type": "execute_result"
    }
   ],
   "source": [
    "df.describe()"
   ]
  },
  {
   "cell_type": "markdown",
   "id": "9739f1ce",
   "metadata": {
    "papermill": {
     "duration": 0.013555,
     "end_time": "2022-10-26T02:44:12.208003",
     "exception": false,
     "start_time": "2022-10-26T02:44:12.194448",
     "status": "completed"
    },
    "tags": []
   },
   "source": [
    "### Get the average length of each sentence"
   ]
  },
  {
   "cell_type": "code",
   "execution_count": 4,
   "id": "0465f7fd",
   "metadata": {
    "execution": {
     "iopub.execute_input": "2022-10-26T02:44:12.236148Z",
     "iopub.status.busy": "2022-10-26T02:44:12.235509Z",
     "iopub.status.idle": "2022-10-26T02:44:12.263129Z",
     "shell.execute_reply": "2022-10-26T02:44:12.262395Z"
    },
    "papermill": {
     "duration": 0.043963,
     "end_time": "2022-10-26T02:44:12.265001",
     "exception": false,
     "start_time": "2022-10-26T02:44:12.221038",
     "status": "completed"
    },
    "tags": []
   },
   "outputs": [],
   "source": [
    "avg_sentence_length = []\n",
    "for entry in df[\"full_text\"]:\n",
    "    lengths = [len(sentence) for sentence in entry.split(\".\")]\n",
    "    average = sum(lengths) / len(lengths)\n",
    "    avg_sentence_length.append(average)\n",
    "df = df.assign(avg_sentence_length=avg_sentence_length)"
   ]
  },
  {
   "cell_type": "markdown",
   "id": "514df23f",
   "metadata": {
    "papermill": {
     "duration": 0.012873,
     "end_time": "2022-10-26T02:44:12.291139",
     "exception": false,
     "start_time": "2022-10-26T02:44:12.278266",
     "status": "completed"
    },
    "tags": []
   },
   "source": [
    "### Get the essay length in words"
   ]
  },
  {
   "cell_type": "code",
   "execution_count": 5,
   "id": "8b611f0d",
   "metadata": {
    "execution": {
     "iopub.execute_input": "2022-10-26T02:44:12.320305Z",
     "iopub.status.busy": "2022-10-26T02:44:12.319605Z",
     "iopub.status.idle": "2022-10-26T02:44:12.391300Z",
     "shell.execute_reply": "2022-10-26T02:44:12.390395Z"
    },
    "papermill": {
     "duration": 0.089271,
     "end_time": "2022-10-26T02:44:12.393647",
     "exception": false,
     "start_time": "2022-10-26T02:44:12.304376",
     "status": "completed"
    },
    "tags": []
   },
   "outputs": [],
   "source": [
    "lengths = [len(entry.split(\" \")) for entry in df[\"full_text\"]]\n",
    "df = df.assign(essay_length=lengths)"
   ]
  },
  {
   "cell_type": "markdown",
   "id": "b3635469",
   "metadata": {
    "papermill": {
     "duration": 0.012967,
     "end_time": "2022-10-26T02:44:12.420747",
     "exception": false,
     "start_time": "2022-10-26T02:44:12.407780",
     "status": "completed"
    },
    "tags": []
   },
   "source": [
    "### Show all unique scores for each category"
   ]
  },
  {
   "cell_type": "code",
   "execution_count": 6,
   "id": "ca768474",
   "metadata": {
    "execution": {
     "iopub.execute_input": "2022-10-26T02:44:12.453415Z",
     "iopub.status.busy": "2022-10-26T02:44:12.452727Z",
     "iopub.status.idle": "2022-10-26T02:44:12.463138Z",
     "shell.execute_reply": "2022-10-26T02:44:12.462448Z"
    },
    "papermill": {
     "duration": 0.028571,
     "end_time": "2022-10-26T02:44:12.465436",
     "exception": false,
     "start_time": "2022-10-26T02:44:12.436865",
     "status": "completed"
    },
    "tags": []
   },
   "outputs": [
    {
     "name": "stdout",
     "output_type": "stream",
     "text": [
      "cohesion:  [1.0, 1.5, 2.0, 2.5, 3.0, 3.5, 4.0, 4.5, 5.0]\n",
      "syntax:  [1.0, 1.5, 2.0, 2.5, 3.0, 3.5, 4.0, 4.5, 5.0]\n",
      "vocabulary:  [1.0, 1.5, 2.0, 2.5, 3.0, 3.5, 4.0, 4.5, 5.0]\n",
      "phraseology:  [1.0, 1.5, 2.0, 2.5, 3.0, 3.5, 4.0, 4.5, 5.0]\n",
      "grammar:  [1.0, 1.5, 2.0, 2.5, 3.0, 3.5, 4.0, 4.5, 5.0]\n",
      "conventions:  [1.0, 1.5, 2.0, 2.5, 3.0, 3.5, 4.0, 4.5, 5.0]\n"
     ]
    }
   ],
   "source": [
    "for column in [\"cohesion\", \"syntax\", \"vocabulary\", \"phraseology\", \"grammar\", \"conventions\"]:\n",
    "    print(f\"{column}: \", sorted(list(df[f\"{column}\"].unique())))"
   ]
  },
  {
   "cell_type": "markdown",
   "id": "be1b1ecd",
   "metadata": {
    "papermill": {
     "duration": 0.01534,
     "end_time": "2022-10-26T02:44:12.497572",
     "exception": false,
     "start_time": "2022-10-26T02:44:12.482232",
     "status": "completed"
    },
    "tags": []
   },
   "source": [
    "### Build a counter for the categories so we can plot a history of total scores per category"
   ]
  },
  {
   "cell_type": "code",
   "execution_count": 7,
   "id": "3ec0fe62",
   "metadata": {
    "execution": {
     "iopub.execute_input": "2022-10-26T02:44:12.528478Z",
     "iopub.status.busy": "2022-10-26T02:44:12.527966Z",
     "iopub.status.idle": "2022-10-26T02:44:12.542357Z",
     "shell.execute_reply": "2022-10-26T02:44:12.541439Z"
    },
    "papermill": {
     "duration": 0.031913,
     "end_time": "2022-10-26T02:44:12.544017",
     "exception": false,
     "start_time": "2022-10-26T02:44:12.512104",
     "status": "completed"
    },
    "tags": []
   },
   "outputs": [],
   "source": [
    "def count_elements(seq) -> dict:\n",
    "    \"\"\"Tally elements from `seq`.\"\"\"\n",
    "    hist = {}\n",
    "    for i in seq:\n",
    "        hist[i] = hist.get(i, 0) + 1\n",
    "    return hist\n",
    "\n",
    "conventions = count_elements(df[\"conventions\"])\n",
    "cohesion = count_elements(df[\"cohesion\"])\n",
    "syntax = count_elements(df[\"syntax\"])\n",
    "vocabulary = count_elements(df[\"vocabulary\"])\n",
    "phraseology = count_elements(df[\"phraseology\"])\n",
    "grammar = count_elements(df[\"grammar\"])"
   ]
  },
  {
   "cell_type": "markdown",
   "id": "9067a887",
   "metadata": {
    "papermill": {
     "duration": 0.012797,
     "end_time": "2022-10-26T02:44:12.570558",
     "exception": false,
     "start_time": "2022-10-26T02:44:12.557761",
     "status": "completed"
    },
    "tags": []
   },
   "source": [
    "### Understand the distribution of scores for each category\n",
    "\n",
    "We see 3.0 as the most commonly occurring score through all categories. This gives us the ability to create three categories of Needs Improvement (N < 3), Meets Expectations (4 > N >= 3), and Exceeds Expectations (N >= 4).  "
   ]
  },
  {
   "cell_type": "code",
   "execution_count": 8,
   "id": "cefb2008",
   "metadata": {
    "execution": {
     "iopub.execute_input": "2022-10-26T02:44:12.598472Z",
     "iopub.status.busy": "2022-10-26T02:44:12.597909Z",
     "iopub.status.idle": "2022-10-26T02:44:13.154148Z",
     "shell.execute_reply": "2022-10-26T02:44:13.153133Z"
    },
    "papermill": {
     "duration": 0.572334,
     "end_time": "2022-10-26T02:44:13.156018",
     "exception": false,
     "start_time": "2022-10-26T02:44:12.583684",
     "status": "completed"
    },
    "tags": []
   },
   "outputs": [
    {
     "data": {
      "text/plain": [
       "Text(0.5, 1.0, 'Grammar')"
      ]
     },
     "execution_count": 8,
     "metadata": {},
     "output_type": "execute_result"
    },
    {
     "data": {
      "image/png": "[encoded data removed]",
      "text/plain": [
       "<Figure size 432x288 with 6 Axes>"
      ]
     },
     "metadata": {
      "needs_background": "light"
     },
     "output_type": "display_data"
    }
   ],
   "source": [
    "width = .75\n",
    "height = .75\n",
    "fig, axs = plt.subplots(2, 3)\n",
    "axs[0, 0].bar(cohesion.keys(), cohesion.values(), width, color=\"r\", label='cohesion')\n",
    "axs[0, 0].set_title('Cohesion')\n",
    "axs[0, 1].bar(syntax.keys(), syntax.values(), width, height, color=\"r\", label='syntax')\n",
    "axs[0, 1].set_title('Syntax')\n",
    "axs[1, 0].bar(conventions.keys(), conventions.values(), width, height, color=\"r\", label='conventions')\n",
    "axs[1, 0].set_title('Conventions')\n",
    "axs[1, 1].bar(vocabulary.keys(), vocabulary.values(), width, height, color=\"r\", label='vocabulary')\n",
    "axs[1, 1].set_title('Vocabulary')\n",
    "axs[1, 2].bar(phraseology.keys(), phraseology.values(), width, height, color=\"r\", label='phraseology')\n",
    "axs[1, 2].set_title('Phraseology')\n",
    "axs[0, 2].bar(grammar.keys(), grammar.values(), width, height, color=\"r\", label='grammar')\n",
    "axs[0, 2].set_title('Grammar')"
   ]
  },
  {
   "cell_type": "markdown",
   "id": "0e6b96ab",
   "metadata": {
    "papermill": {
     "duration": 0.0133,
     "end_time": "2022-10-26T02:44:13.182839",
     "exception": false,
     "start_time": "2022-10-26T02:44:13.169539",
     "status": "completed"
    },
    "tags": []
   },
   "source": [
    "### Build the overall average across categories"
   ]
  },
  {
   "cell_type": "code",
   "execution_count": 9,
   "id": "6d46f159",
   "metadata": {
    "execution": {
     "iopub.execute_input": "2022-10-26T02:44:13.210381Z",
     "iopub.status.busy": "2022-10-26T02:44:13.210059Z",
     "iopub.status.idle": "2022-10-26T02:44:13.471532Z",
     "shell.execute_reply": "2022-10-26T02:44:13.470661Z"
    },
    "papermill": {
     "duration": 0.277745,
     "end_time": "2022-10-26T02:44:13.473630",
     "exception": false,
     "start_time": "2022-10-26T02:44:13.195885",
     "status": "completed"
    },
    "tags": []
   },
   "outputs": [],
   "source": [
    "overall_average = []\n",
    "for index, entry in df.iterrows():\n",
    "    average = sum([entry[\"cohesion\"],entry[\"syntax\"],entry[\"vocabulary\"],entry[\"phraseology\"],entry[\"grammar\"],entry[\"conventions\"]]) / 6\n",
    "    overall_average.append(average)\n",
    "df = df.assign(overall_average=overall_average)"
   ]
  },
  {
   "cell_type": "markdown",
   "id": "d1fb9bc0",
   "metadata": {
    "papermill": {
     "duration": 0.012824,
     "end_time": "2022-10-26T02:44:13.500073",
     "exception": false,
     "start_time": "2022-10-26T02:44:13.487249",
     "status": "completed"
    },
    "tags": []
   },
   "source": [
    "### Lemmatize the words in the essays\n",
    "\n",
    "We will start by counting the number of stop words (e.g. a, an, the, is) vs non-stop words."
   ]
  },
  {
   "cell_type": "code",
   "execution_count": 10,
   "id": "6f2a9139",
   "metadata": {
    "execution": {
     "iopub.execute_input": "2022-10-26T02:44:13.528543Z",
     "iopub.status.busy": "2022-10-26T02:44:13.527434Z",
     "iopub.status.idle": "2022-10-26T02:44:13.533293Z",
     "shell.execute_reply": "2022-10-26T02:44:13.532617Z"
    },
    "papermill": {
     "duration": 0.021957,
     "end_time": "2022-10-26T02:44:13.535043",
     "exception": false,
     "start_time": "2022-10-26T02:44:13.513086",
     "status": "completed"
    },
    "tags": []
   },
   "outputs": [],
   "source": [
    "class LemmaTokenizer:\n",
    "    \"\"\"Interface to the WordNet lemmatizer from nltk\"\"\"\n",
    "    ignore_tokens = [',', '.', ';', ':', '\"', '``', \"''\", '`']\n",
    "    def __init__(self):\n",
    "        self.wnl = WordNetLemmatizer()\n",
    "    def __call__(self, doc):\n",
    "        return [self.wnl.lemmatize(t) for t in word_tokenize(doc) if t not in self.ignore_tokens]"
   ]
  },
  {
   "cell_type": "code",
   "execution_count": 11,
   "id": "774e73b6",
   "metadata": {
    "execution": {
     "iopub.execute_input": "2022-10-26T02:44:13.563043Z",
     "iopub.status.busy": "2022-10-26T02:44:13.562656Z",
     "iopub.status.idle": "2022-10-26T02:44:15.270330Z",
     "shell.execute_reply": "2022-10-26T02:44:15.269275Z"
    },
    "papermill": {
     "duration": 1.724663,
     "end_time": "2022-10-26T02:44:15.272882",
     "exception": false,
     "start_time": "2022-10-26T02:44:13.548219",
     "status": "completed"
    },
    "tags": []
   },
   "outputs": [],
   "source": [
    "tokenizer=LemmaTokenizer()\n",
    "token_stop = tokenizer(' '.join(stop_words))\n",
    "vectorizer = TfidfVectorizer(stop_words=token_stop, tokenizer=tokenizer)"
   ]
  },
  {
   "cell_type": "markdown",
   "id": "250dff12",
   "metadata": {
    "papermill": {
     "duration": 0.013432,
     "end_time": "2022-10-26T02:44:15.300287",
     "exception": false,
     "start_time": "2022-10-26T02:44:15.286855",
     "status": "completed"
    },
    "tags": []
   },
   "source": [
    "### Categorized scoring based on three values\n",
    "\n",
    "We can look at the overall scores as a whole to determine how frequently the overall average is below or above a certain threshold. Building the overall score shows a consistent trend between each score."
   ]
  },
  {
   "cell_type": "code",
   "execution_count": 12,
   "id": "baad02cf",
   "metadata": {
    "execution": {
     "iopub.execute_input": "2022-10-26T02:44:15.330172Z",
     "iopub.status.busy": "2022-10-26T02:44:15.328922Z",
     "iopub.status.idle": "2022-10-26T02:44:15.339015Z",
     "shell.execute_reply": "2022-10-26T02:44:15.338185Z"
    },
    "papermill": {
     "duration": 0.027038,
     "end_time": "2022-10-26T02:44:15.340922",
     "exception": false,
     "start_time": "2022-10-26T02:44:15.313884",
     "status": "completed"
    },
    "tags": []
   },
   "outputs": [],
   "source": [
    "score_outcome = []\n",
    "for entry in df[\"overall_average\"]:\n",
    "    if entry < 3.0: score_outcome.append(\"Needs Improvement\")\n",
    "    elif entry >= 4.0: score_outcome.append(\"Exceeds Expectations\")\n",
    "    else: score_outcome.append(\"Meets Expectations\")\n",
    "df = df.assign(score_outcome=score_outcome)"
   ]
  },
  {
   "cell_type": "code",
   "execution_count": 13,
   "id": "d5499a56",
   "metadata": {
    "execution": {
     "iopub.execute_input": "2022-10-26T02:44:15.368931Z",
     "iopub.status.busy": "2022-10-26T02:44:15.368630Z",
     "iopub.status.idle": "2022-10-26T02:44:15.378160Z",
     "shell.execute_reply": "2022-10-26T02:44:15.377452Z"
    },
    "papermill": {
     "duration": 0.025357,
     "end_time": "2022-10-26T02:44:15.379654",
     "exception": false,
     "start_time": "2022-10-26T02:44:15.354297",
     "status": "completed"
    },
    "tags": []
   },
   "outputs": [],
   "source": [
    "exceeds_word_count = df[(df[\"score_outcome\"] == \"Exceeds Expectations\")][\"essay_length\"].mean()\n",
    "meets_expectations_word_count = df[(df[\"score_outcome\"] == \"Meets Expectations\")][\"essay_length\"].mean()\n",
    "needs_improvment_word_count = df[(df[\"score_outcome\"] == \"Needs Improvement\")][\"essay_length\"].mean()"
   ]
  },
  {
   "cell_type": "code",
   "execution_count": 14,
   "id": "62d87a5f",
   "metadata": {
    "execution": {
     "iopub.execute_input": "2022-10-26T02:44:15.409132Z",
     "iopub.status.busy": "2022-10-26T02:44:15.408690Z",
     "iopub.status.idle": "2022-10-26T02:44:15.693516Z",
     "shell.execute_reply": "2022-10-26T02:44:15.692770Z"
    },
    "papermill": {
     "duration": 0.302418,
     "end_time": "2022-10-26T02:44:15.695451",
     "exception": false,
     "start_time": "2022-10-26T02:44:15.393033",
     "status": "completed"
    },
    "tags": []
   },
   "outputs": [
    {
     "name": "stderr",
     "output_type": "stream",
     "text": [
      "/opt/conda/lib/python3.7/site-packages/seaborn/_decorators.py:43: FutureWarning: Pass the following variable as a keyword arg: x. From version 0.12, the only valid positional argument will be `data`, and passing other arguments without an explicit keyword will result in an error or misinterpretation.\n",
      "  FutureWarning\n"
     ]
    },
    {
     "data": {
      "text/plain": [
       "<AxesSubplot:xlabel='score_outcome', ylabel='count'>"
      ]
     },
     "execution_count": 14,
     "metadata": {},
     "output_type": "execute_result"
    },
    {
     "data": {
      "image/png": "[encoded data removed]",
      "text/plain": [
       "<Figure size 432x288 with 1 Axes>"
      ]
     },
     "metadata": {
      "needs_background": "light"
     },
     "output_type": "display_data"
    }
   ],
   "source": [
    "import seaborn as sns\n",
    "\n",
    "sns.countplot(df[\"score_outcome\"], label=\"Total\")"
   ]
  },
  {
   "cell_type": "markdown",
   "id": "17224343",
   "metadata": {
    "papermill": {
     "duration": 0.013791,
     "end_time": "2022-10-26T02:44:15.727422",
     "exception": false,
     "start_time": "2022-10-26T02:44:15.713631",
     "status": "completed"
    },
    "tags": []
   },
   "source": [
    "We can see here that the number of above average scores is very rare. The groupby function below proves this. If an essay scores a 1.0 in grammar, this individual is much more likely to score lower in the remaining 6 categories. This trend continues consistently as the scores rise. "
   ]
  },
  {
   "cell_type": "code",
   "execution_count": 15,
   "id": "e08ad29c",
   "metadata": {
    "execution": {
     "iopub.execute_input": "2022-10-26T02:44:15.758902Z",
     "iopub.status.busy": "2022-10-26T02:44:15.758244Z",
     "iopub.status.idle": "2022-10-26T02:50:33.795859Z",
     "shell.execute_reply": "2022-10-26T02:50:33.794999Z"
    },
    "papermill": {
     "duration": 378.055502,
     "end_time": "2022-10-26T02:50:33.797680",
     "exception": false,
     "start_time": "2022-10-26T02:44:15.742178",
     "status": "completed"
    },
    "tags": []
   },
   "outputs": [
    {
     "name": "stderr",
     "output_type": "stream",
     "text": [
      "100%|██████████| 3911/3911 [06:18<00:00, 10.35it/s]\n"
     ]
    }
   ],
   "source": [
    "from tqdm import tqdm\n",
    "\n",
    "total_stopwords = []\n",
    "total_non_stopwords = []\n",
    "unique_words = []\n",
    "for entry in tqdm(df[\"full_text\"]):\n",
    "    total_stopwords.append(len([word for word in entry.split(\" \") if word in stopwords.words('english')]))\n",
    "    total_non_stopwords.append(len([word for word in entry.split(\" \") if word not in stopwords.words('english')]))\n",
    "    unique_words.append(len(set(entry.split(\" \"))))\n",
    "df = df.assign(total_stopwords=total_stopwords)\n",
    "df = df.assign(total_non_stopwords=total_non_stopwords)\n",
    "df = df.assign(unique_words=unique_words)"
   ]
  },
  {
   "cell_type": "code",
   "execution_count": 16,
   "id": "5e1733ec",
   "metadata": {
    "execution": {
     "iopub.execute_input": "2022-10-26T02:50:34.035496Z",
     "iopub.status.busy": "2022-10-26T02:50:34.034751Z",
     "iopub.status.idle": "2022-10-26T02:50:34.447159Z",
     "shell.execute_reply": "2022-10-26T02:50:34.445905Z"
    },
    "papermill": {
     "duration": 0.531594,
     "end_time": "2022-10-26T02:50:34.449139",
     "exception": false,
     "start_time": "2022-10-26T02:50:33.917545",
     "status": "completed"
    },
    "tags": []
   },
   "outputs": [
    {
     "name": "stderr",
     "output_type": "stream",
     "text": [
      "100%|██████████| 3911/3911 [00:00<00:00, 9743.22it/s]\n"
     ]
    }
   ],
   "source": [
    "count = lambda l1,l2: sum([1 for x in l1 if x in l2])\n",
    "punctuation = []\n",
    "for entry in tqdm(df[\"full_text\"]):\n",
    "    punctuation.append(count(entry,set(string.punctuation)))\n",
    "df = df.assign(punctuation=punctuation)"
   ]
  },
  {
   "cell_type": "code",
   "execution_count": 17,
   "id": "7fa8e664",
   "metadata": {
    "execution": {
     "iopub.execute_input": "2022-10-26T02:50:34.728087Z",
     "iopub.status.busy": "2022-10-26T02:50:34.727754Z",
     "iopub.status.idle": "2022-10-26T02:50:34.750908Z",
     "shell.execute_reply": "2022-10-26T02:50:34.750250Z"
    },
    "papermill": {
     "duration": 0.188616,
     "end_time": "2022-10-26T02:50:34.752633",
     "exception": false,
     "start_time": "2022-10-26T02:50:34.564017",
     "status": "completed"
    },
    "tags": []
   },
   "outputs": [
    {
     "data": {
      "text/html": [
       "<div>\n",
       "<style scoped>\n",
       "    .dataframe tbody tr th:only-of-type {\n",
       "        vertical-align: middle;\n",
       "    }\n",
       "\n",
       "    .dataframe tbody tr th {\n",
       "        vertical-align: top;\n",
       "    }\n",
       "\n",
       "    .dataframe thead th {\n",
       "        text-align: right;\n",
       "    }\n",
       "</style>\n",
       "<table border=\"1\" class=\"dataframe\">\n",
       "  <thead>\n",
       "    <tr style=\"text-align: right;\">\n",
       "      <th></th>\n",
       "      <th>cohesion</th>\n",
       "      <th>syntax</th>\n",
       "      <th>vocabulary</th>\n",
       "      <th>phraseology</th>\n",
       "      <th>conventions</th>\n",
       "      <th>avg_sentence_length</th>\n",
       "      <th>essay_length</th>\n",
       "      <th>overall_average</th>\n",
       "      <th>total_stopwords</th>\n",
       "      <th>total_non_stopwords</th>\n",
       "      <th>unique_words</th>\n",
       "      <th>punctuation</th>\n",
       "    </tr>\n",
       "    <tr>\n",
       "      <th>grammar</th>\n",
       "      <th></th>\n",
       "      <th></th>\n",
       "      <th></th>\n",
       "      <th></th>\n",
       "      <th></th>\n",
       "      <th></th>\n",
       "      <th></th>\n",
       "      <th></th>\n",
       "      <th></th>\n",
       "      <th></th>\n",
       "      <th></th>\n",
       "      <th></th>\n",
       "    </tr>\n",
       "  </thead>\n",
       "  <tbody>\n",
       "    <tr>\n",
       "      <th>1.0</th>\n",
       "      <td>1.250000</td>\n",
       "      <td>1.187500</td>\n",
       "      <td>1.437500</td>\n",
       "      <td>1.250000</td>\n",
       "      <td>1.250000</td>\n",
       "      <td>175.516278</td>\n",
       "      <td>741.125000</td>\n",
       "      <td>1.229167</td>\n",
       "      <td>179.625000</td>\n",
       "      <td>561.500000</td>\n",
       "      <td>139.250000</td>\n",
       "      <td>27.375000</td>\n",
       "    </tr>\n",
       "    <tr>\n",
       "      <th>1.5</th>\n",
       "      <td>1.625000</td>\n",
       "      <td>1.600000</td>\n",
       "      <td>1.850000</td>\n",
       "      <td>1.775000</td>\n",
       "      <td>1.575000</td>\n",
       "      <td>299.247012</td>\n",
       "      <td>680.600000</td>\n",
       "      <td>1.654167</td>\n",
       "      <td>204.550000</td>\n",
       "      <td>476.050000</td>\n",
       "      <td>148.850000</td>\n",
       "      <td>24.500000</td>\n",
       "    </tr>\n",
       "    <tr>\n",
       "      <th>2.0</th>\n",
       "      <td>2.539522</td>\n",
       "      <td>2.390625</td>\n",
       "      <td>2.698529</td>\n",
       "      <td>2.443934</td>\n",
       "      <td>2.465993</td>\n",
       "      <td>176.965513</td>\n",
       "      <td>469.533088</td>\n",
       "      <td>2.423100</td>\n",
       "      <td>209.582721</td>\n",
       "      <td>259.950368</td>\n",
       "      <td>155.305147</td>\n",
       "      <td>36.560662</td>\n",
       "    </tr>\n",
       "    <tr>\n",
       "      <th>2.5</th>\n",
       "      <td>2.791813</td>\n",
       "      <td>2.671345</td>\n",
       "      <td>2.934503</td>\n",
       "      <td>2.752047</td>\n",
       "      <td>2.726316</td>\n",
       "      <td>159.575832</td>\n",
       "      <td>443.334503</td>\n",
       "      <td>2.729337</td>\n",
       "      <td>202.640936</td>\n",
       "      <td>240.693567</td>\n",
       "      <td>161.429240</td>\n",
       "      <td>37.581287</td>\n",
       "    </tr>\n",
       "    <tr>\n",
       "      <th>3.0</th>\n",
       "      <td>3.134809</td>\n",
       "      <td>3.032696</td>\n",
       "      <td>3.266600</td>\n",
       "      <td>3.103119</td>\n",
       "      <td>3.075956</td>\n",
       "      <td>147.115619</td>\n",
       "      <td>466.039235</td>\n",
       "      <td>3.102197</td>\n",
       "      <td>215.663984</td>\n",
       "      <td>250.375252</td>\n",
       "      <td>174.467807</td>\n",
       "      <td>40.774648</td>\n",
       "    </tr>\n",
       "    <tr>\n",
       "      <th>3.5</th>\n",
       "      <td>3.413068</td>\n",
       "      <td>3.323295</td>\n",
       "      <td>3.482955</td>\n",
       "      <td>3.451136</td>\n",
       "      <td>3.368750</td>\n",
       "      <td>130.237908</td>\n",
       "      <td>457.401136</td>\n",
       "      <td>3.423201</td>\n",
       "      <td>214.789773</td>\n",
       "      <td>242.611364</td>\n",
       "      <td>180.332955</td>\n",
       "      <td>41.939773</td>\n",
       "    </tr>\n",
       "    <tr>\n",
       "      <th>4.0</th>\n",
       "      <td>3.625280</td>\n",
       "      <td>3.554810</td>\n",
       "      <td>3.629754</td>\n",
       "      <td>3.678971</td>\n",
       "      <td>3.626398</td>\n",
       "      <td>120.187542</td>\n",
       "      <td>438.545861</td>\n",
       "      <td>3.685869</td>\n",
       "      <td>202.532438</td>\n",
       "      <td>236.013423</td>\n",
       "      <td>179.552573</td>\n",
       "      <td>42.239374</td>\n",
       "    </tr>\n",
       "    <tr>\n",
       "      <th>4.5</th>\n",
       "      <td>4.130597</td>\n",
       "      <td>4.186567</td>\n",
       "      <td>4.227612</td>\n",
       "      <td>4.227612</td>\n",
       "      <td>4.208955</td>\n",
       "      <td>114.960373</td>\n",
       "      <td>531.835821</td>\n",
       "      <td>4.246891</td>\n",
       "      <td>234.567164</td>\n",
       "      <td>297.268657</td>\n",
       "      <td>216.694030</td>\n",
       "      <td>52.149254</td>\n",
       "    </tr>\n",
       "    <tr>\n",
       "      <th>5.0</th>\n",
       "      <td>4.327586</td>\n",
       "      <td>4.431034</td>\n",
       "      <td>4.431034</td>\n",
       "      <td>4.465517</td>\n",
       "      <td>4.448276</td>\n",
       "      <td>122.878107</td>\n",
       "      <td>565.896552</td>\n",
       "      <td>4.517241</td>\n",
       "      <td>241.724138</td>\n",
       "      <td>324.172414</td>\n",
       "      <td>225.413793</td>\n",
       "      <td>59.344828</td>\n",
       "    </tr>\n",
       "  </tbody>\n",
       "</table>\n",
       "</div>"
      ],
      "text/plain": [
       "         cohesion    syntax  vocabulary  phraseology  conventions  \\\n",
       "grammar                                                             \n",
       "1.0      1.250000  1.187500    1.437500     1.250000     1.250000   \n",
       "1.5      1.625000  1.600000    1.850000     1.775000     1.575000   \n",
       "2.0      2.539522  2.390625    2.698529     2.443934     2.465993   \n",
       "2.5      2.791813  2.671345    2.934503     2.752047     2.726316   \n",
       "3.0      3.134809  3.032696    3.266600     3.103119     3.075956   \n",
       "3.5      3.413068  3.323295    3.482955     3.451136     3.368750   \n",
       "4.0      3.625280  3.554810    3.629754     3.678971     3.626398   \n",
       "4.5      4.130597  4.186567    4.227612     4.227612     4.208955   \n",
       "5.0      4.327586  4.431034    4.431034     4.465517     4.448276   \n",
       "\n",
       "         avg_sentence_length  essay_length  overall_average  total_stopwords  \\\n",
       "grammar                                                                        \n",
       "1.0               175.516278    741.125000         1.229167       179.625000   \n",
       "1.5               299.247012    680.600000         1.654167       204.550000   \n",
       "2.0               176.965513    469.533088         2.423100       209.582721   \n",
       "2.5               159.575832    443.334503         2.729337       202.640936   \n",
       "3.0               147.115619    466.039235         3.102197       215.663984   \n",
       "3.5               130.237908    457.401136         3.423201       214.789773   \n",
       "4.0               120.187542    438.545861         3.685869       202.532438   \n",
       "4.5               114.960373    531.835821         4.246891       234.567164   \n",
       "5.0               122.878107    565.896552         4.517241       241.724138   \n",
       "\n",
       "         total_non_stopwords  unique_words  punctuation  \n",
       "grammar                                                  \n",
       "1.0               561.500000    139.250000    27.375000  \n",
       "1.5               476.050000    148.850000    24.500000  \n",
       "2.0               259.950368    155.305147    36.560662  \n",
       "2.5               240.693567    161.429240    37.581287  \n",
       "3.0               250.375252    174.467807    40.774648  \n",
       "3.5               242.611364    180.332955    41.939773  \n",
       "4.0               236.013423    179.552573    42.239374  \n",
       "4.5               297.268657    216.694030    52.149254  \n",
       "5.0               324.172414    225.413793    59.344828  "
      ]
     },
     "execution_count": 17,
     "metadata": {},
     "output_type": "execute_result"
    }
   ],
   "source": [
    "df.groupby(\"grammar\").mean()"
   ]
  },
  {
   "cell_type": "code",
   "execution_count": 18,
   "id": "beff7ad1",
   "metadata": {
    "execution": {
     "iopub.execute_input": "2022-10-26T02:50:34.988655Z",
     "iopub.status.busy": "2022-10-26T02:50:34.987786Z",
     "iopub.status.idle": "2022-10-26T02:50:34.992163Z",
     "shell.execute_reply": "2022-10-26T02:50:34.991585Z"
    },
    "papermill": {
     "duration": 0.124835,
     "end_time": "2022-10-26T02:50:34.993689",
     "exception": false,
     "start_time": "2022-10-26T02:50:34.868854",
     "status": "completed"
    },
    "tags": []
   },
   "outputs": [],
   "source": [
    "output = []\n",
    "headers = [\"cohesion\", \"syntax\", \"vocabulary\", \"phraseology\", \"grammar\", \"conventions\"]\n",
    "for column in headers:\n",
    "    for entry in headers: output.append(f\"{column}+{entry}\")"
   ]
  },
  {
   "cell_type": "markdown",
   "id": "663037f2",
   "metadata": {
    "papermill": {
     "duration": 0.115735,
     "end_time": "2022-10-26T02:50:35.226512",
     "exception": false,
     "start_time": "2022-10-26T02:50:35.110777",
     "status": "completed"
    },
    "tags": []
   },
   "source": [
    "### Assessing grammar first\n",
    "\n",
    "We will begin by finding ways to extract grammatical errors from the text. The intent of this practice is to determine a correlation between the radio of grammatical errors and the grammar score. Other data points like unique words, total punctuation counts, and essay length will be factored into the model. \n",
    "\n",
    "An open source toolset called `language_tool_python` can extract grammatical errors of different types from a string of text. Source: https://pypi.org/project/language-tool-python/"
   ]
  },
  {
   "cell_type": "code",
   "execution_count": 19,
   "id": "80820507",
   "metadata": {
    "execution": {
     "iopub.execute_input": "2022-10-26T02:50:35.461708Z",
     "iopub.status.busy": "2022-10-26T02:50:35.461063Z",
     "iopub.status.idle": "2022-10-26T02:50:46.042766Z",
     "shell.execute_reply": "2022-10-26T02:50:46.041783Z"
    },
    "papermill": {
     "duration": 10.702251,
     "end_time": "2022-10-26T02:50:46.045290",
     "exception": false,
     "start_time": "2022-10-26T02:50:35.343039",
     "status": "completed"
    },
    "tags": []
   },
   "outputs": [
    {
     "name": "stdout",
     "output_type": "stream",
     "text": [
      "Collecting language_tool_python\r\n",
      "  Downloading language_tool_python-2.7.1-py3-none-any.whl (34 kB)\r\n",
      "Requirement already satisfied: requests in /opt/conda/lib/python3.7/site-packages (from language_tool_python) (2.28.1)\r\n",
      "Requirement already satisfied: tqdm in /opt/conda/lib/python3.7/site-packages (from language_tool_python) (4.64.0)\r\n",
      "Requirement already satisfied: charset-normalizer<3,>=2 in /opt/conda/lib/python3.7/site-packages (from requests->language_tool_python) (2.1.0)\r\n",
      "Requirement already satisfied: idna<4,>=2.5 in /opt/conda/lib/python3.7/site-packages (from requests->language_tool_python) (3.3)\r\n",
      "Requirement already satisfied: certifi>=2017.4.17 in /opt/conda/lib/python3.7/site-packages (from requests->language_tool_python) (2022.6.15.2)\r\n",
      "Requirement already satisfied: urllib3<1.27,>=1.21.1 in /opt/conda/lib/python3.7/site-packages (from requests->language_tool_python) (1.26.12)\r\n",
      "Installing collected packages: language_tool_python\r\n",
      "Successfully installed language_tool_python-2.7.1\r\n",
      "\u001b[33mWARNING: Running pip as the 'root' user can result in broken permissions and conflicting behaviour with the system package manager. It is recommended to use a virtual environment instead: https://pip.pypa.io/warnings/venv\u001b[0m\u001b[33m\r\n",
      "\u001b[0m"
     ]
    }
   ],
   "source": [
    "!pip install language_tool_python"
   ]
  },
  {
   "cell_type": "code",
   "execution_count": 20,
   "id": "7fa8359a",
   "metadata": {
    "execution": {
     "iopub.execute_input": "2022-10-26T02:50:46.283424Z",
     "iopub.status.busy": "2022-10-26T02:50:46.283016Z",
     "iopub.status.idle": "2022-10-26T03:01:10.729627Z",
     "shell.execute_reply": "2022-10-26T03:01:10.727735Z"
    },
    "papermill": {
     "duration": 624.568372,
     "end_time": "2022-10-26T03:01:10.733254",
     "exception": false,
     "start_time": "2022-10-26T02:50:46.164882",
     "status": "completed"
    },
    "tags": []
   },
   "outputs": [
    {
     "name": "stderr",
     "output_type": "stream",
     "text": [
      "Downloading LanguageTool 5.7: 100%|██████████| 225M/225M [00:03<00:00, 64.6MB/s]\n",
      "100%|██████████| 3911/3911 [10:16<00:00,  6.35it/s]\n"
     ]
    }
   ],
   "source": [
    "import language_tool_python\n",
    "tool = language_tool_python.LanguageTool('en-US')\n",
    "\n",
    "total_grammatical_errors = []\n",
    "unique_grammatical_errors = []\n",
    "for entry in tqdm(df[\"full_text\"]):\n",
    "    matches = tool.check(entry)\n",
    "    # unique grammatical errors\n",
    "    unique_grammatical_errors.append(len(set([rule.ruleId for rule in matches])))\n",
    "    # total grammatical errors\n",
    "    total_grammatical_errors.append(len(matches))\n",
    "\n",
    "df = df.assign(total_grammatical_errors=total_grammatical_errors)\n",
    "df = df.assign(unique_grammatical_errors=unique_grammatical_errors)"
   ]
  },
  {
   "cell_type": "markdown",
   "id": "805fa908",
   "metadata": {
    "papermill": {
     "duration": 0.292414,
     "end_time": "2022-10-26T03:01:11.310433",
     "exception": false,
     "start_time": "2022-10-26T03:01:11.018019",
     "status": "completed"
    },
    "tags": []
   },
   "source": [
    "### Grammar score and grammatical errors correlation\n",
    "\n",
    "It appears the number of grammatical errors consistently declines on average as the score increases."
   ]
  },
  {
   "cell_type": "code",
   "execution_count": 21,
   "id": "ab0c6715",
   "metadata": {
    "execution": {
     "iopub.execute_input": "2022-10-26T03:01:11.945560Z",
     "iopub.status.busy": "2022-10-26T03:01:11.945159Z",
     "iopub.status.idle": "2022-10-26T03:01:12.138796Z",
     "shell.execute_reply": "2022-10-26T03:01:12.137025Z"
    },
    "papermill": {
     "duration": 0.486367,
     "end_time": "2022-10-26T03:01:12.141045",
     "exception": false,
     "start_time": "2022-10-26T03:01:11.654678",
     "status": "completed"
    },
    "tags": []
   },
   "outputs": [
    {
     "data": {
      "text/plain": [
       "<matplotlib.legend.Legend at 0x7fe82867af10>"
      ]
     },
     "execution_count": 21,
     "metadata": {},
     "output_type": "execute_result"
    },
    {
     "data": {
      "image/png": "[encoded data removed]",
      "text/plain": [
       "<Figure size 432x288 with 1 Axes>"
      ]
     },
     "metadata": {
      "needs_background": "light"
     },
     "output_type": "display_data"
    }
   ],
   "source": [
    "plt = df.groupby(\"grammar\").mean()[\"total_grammatical_errors\"].plot(legend=True)\n",
    "plt.set_title(\"Grammar\")\n",
    "plt.legend(loc=\"center left\")"
   ]
  },
  {
   "cell_type": "code",
   "execution_count": 22,
   "id": "ef96f10f",
   "metadata": {
    "execution": {
     "iopub.execute_input": "2022-10-26T03:01:12.719449Z",
     "iopub.status.busy": "2022-10-26T03:01:12.719141Z",
     "iopub.status.idle": "2022-10-26T03:01:12.879625Z",
     "shell.execute_reply": "2022-10-26T03:01:12.878834Z"
    },
    "papermill": {
     "duration": 0.451563,
     "end_time": "2022-10-26T03:01:12.881314",
     "exception": false,
     "start_time": "2022-10-26T03:01:12.429751",
     "status": "completed"
    },
    "tags": []
   },
   "outputs": [
    {
     "data": {
      "text/plain": [
       "<matplotlib.legend.Legend at 0x7fe7e5a76cd0>"
      ]
     },
     "execution_count": 22,
     "metadata": {},
     "output_type": "execute_result"
    },
    {
     "data": {
      "image/png": "[encoded data removed]",
      "text/plain": [
       "<Figure size 432x288 with 1 Axes>"
      ]
     },
     "metadata": {
      "needs_background": "light"
     },
     "output_type": "display_data"
    }
   ],
   "source": [
    "plt = df.groupby(\"grammar\").mean()[\"unique_grammatical_errors\"].plot(legend=True)\n",
    "plt.set_title(\"Grammar\")\n",
    "plt.legend(loc=\"center left\")"
   ]
  },
  {
   "cell_type": "code",
   "execution_count": 23,
   "id": "32df36bf",
   "metadata": {
    "execution": {
     "iopub.execute_input": "2022-10-26T03:01:13.519547Z",
     "iopub.status.busy": "2022-10-26T03:01:13.519199Z",
     "iopub.status.idle": "2022-10-26T03:01:13.714595Z",
     "shell.execute_reply": "2022-10-26T03:01:13.713661Z"
    },
    "papermill": {
     "duration": 0.496015,
     "end_time": "2022-10-26T03:01:13.717353",
     "exception": false,
     "start_time": "2022-10-26T03:01:13.221338",
     "status": "completed"
    },
    "tags": []
   },
   "outputs": [],
   "source": [
    "grammatical_errors_ratio = []\n",
    "for index, entry in df.iterrows():\n",
    "    ratio = entry[\"total_grammatical_errors\"] / entry[\"essay_length\"]\n",
    "    grammatical_errors_ratio.append(ratio)\n",
    "df = df.assign(grammatical_errors_ratio=grammatical_errors_ratio)"
   ]
  },
  {
   "cell_type": "code",
   "execution_count": 24,
   "id": "664da50f",
   "metadata": {
    "execution": {
     "iopub.execute_input": "2022-10-26T03:01:14.301854Z",
     "iopub.status.busy": "2022-10-26T03:01:14.301507Z",
     "iopub.status.idle": "2022-10-26T03:01:14.475470Z",
     "shell.execute_reply": "2022-10-26T03:01:14.474536Z"
    },
    "papermill": {
     "duration": 0.464644,
     "end_time": "2022-10-26T03:01:14.477319",
     "exception": false,
     "start_time": "2022-10-26T03:01:14.012675",
     "status": "completed"
    },
    "scrolled": true,
    "tags": []
   },
   "outputs": [
    {
     "data": {
      "image/png": "[encoded data removed]",
      "text/plain": [
       "<Figure size 432x288 with 1 Axes>"
      ]
     },
     "metadata": {
      "needs_background": "light"
     },
     "output_type": "display_data"
    }
   ],
   "source": [
    "plt = df.groupby(\"grammar\").mean()[\"grammatical_errors_ratio\"].plot(legend=True)"
   ]
  },
  {
   "cell_type": "markdown",
   "id": "5c67c28f",
   "metadata": {
    "papermill": {
     "duration": 0.348978,
     "end_time": "2022-10-26T03:01:15.120503",
     "exception": false,
     "start_time": "2022-10-26T03:01:14.771525",
     "status": "completed"
    },
    "tags": []
   },
   "source": [
    "### Other consistent trends\n",
    "\n",
    "* Consistent trending outputs for grammer include punctuation, unique words, and the use of stopwords."
   ]
  },
  {
   "cell_type": "code",
   "execution_count": 25,
   "id": "2ca8ed85",
   "metadata": {
    "execution": {
     "iopub.execute_input": "2022-10-26T03:01:15.692418Z",
     "iopub.status.busy": "2022-10-26T03:01:15.692070Z",
     "iopub.status.idle": "2022-10-26T03:01:15.888437Z",
     "shell.execute_reply": "2022-10-26T03:01:15.887630Z"
    },
    "papermill": {
     "duration": 0.486244,
     "end_time": "2022-10-26T03:01:15.890580",
     "exception": false,
     "start_time": "2022-10-26T03:01:15.404336",
     "status": "completed"
    },
    "tags": []
   },
   "outputs": [
    {
     "data": {
      "text/plain": [
       "<matplotlib.legend.Legend at 0x7fe7e56ba150>"
      ]
     },
     "execution_count": 25,
     "metadata": {},
     "output_type": "execute_result"
    },
    {
     "data": {
      "image/png": "[encoded data removed]",
      "text/plain": [
       "<Figure size 432x288 with 1 Axes>"
      ]
     },
     "metadata": {
      "needs_background": "light"
     },
     "output_type": "display_data"
    }
   ],
   "source": [
    "plt = df.groupby(\"grammar\").mean()[\"punctuation\"].plot(legend=True)\n",
    "plt = df.groupby(\"grammar\").mean()[\"unique_words\"].plot(legend=True)\n",
    "plt = df.groupby(\"grammar\").mean()[\"total_stopwords\"].plot(legend=True)\n",
    "plt.set_title(\"Grammer\")\n",
    "plt.legend(loc=\"center left\")"
   ]
  },
  {
   "cell_type": "markdown",
   "id": "378f4afb",
   "metadata": {
    "papermill": {
     "duration": 0.287443,
     "end_time": "2022-10-26T03:01:16.476085",
     "exception": false,
     "start_time": "2022-10-26T03:01:16.188642",
     "status": "completed"
    },
    "tags": []
   },
   "source": [
    "### Analyze the text for sentiment\n",
    "\n",
    "This is an experimental approach to discover if there is a positive correlation between scores and overall sentiment."
   ]
  },
  {
   "cell_type": "code",
   "execution_count": 26,
   "id": "491116ef",
   "metadata": {
    "execution": {
     "iopub.execute_input": "2022-10-26T03:01:17.110315Z",
     "iopub.status.busy": "2022-10-26T03:01:17.109726Z",
     "iopub.status.idle": "2022-10-26T03:01:33.715326Z",
     "shell.execute_reply": "2022-10-26T03:01:33.714096Z"
    },
    "papermill": {
     "duration": 16.955339,
     "end_time": "2022-10-26T03:01:33.719195",
     "exception": false,
     "start_time": "2022-10-26T03:01:16.763856",
     "status": "completed"
    },
    "tags": []
   },
   "outputs": [],
   "source": [
    "import nltk\n",
    "from nltk.sentiment.vader import SentimentIntensityAnalyzer\n",
    "\n",
    "sid = SentimentIntensityAnalyzer()\n",
    "df[['neg', 'neu', 'pos', 'compound']] = df['full_text'].apply(sid.polarity_scores).apply(pd.Series)"
   ]
  },
  {
   "cell_type": "code",
   "execution_count": 27,
   "id": "dc95f8d9",
   "metadata": {
    "execution": {
     "iopub.execute_input": "2022-10-26T03:01:34.308040Z",
     "iopub.status.busy": "2022-10-26T03:01:34.307578Z",
     "iopub.status.idle": "2022-10-26T03:01:34.488717Z",
     "shell.execute_reply": "2022-10-26T03:01:34.487815Z"
    },
    "papermill": {
     "duration": 0.477917,
     "end_time": "2022-10-26T03:01:34.490445",
     "exception": false,
     "start_time": "2022-10-26T03:01:34.012528",
     "status": "completed"
    },
    "tags": []
   },
   "outputs": [
    {
     "data": {
      "text/plain": [
       "<matplotlib.legend.Legend at 0x7fe7e56fe450>"
      ]
     },
     "execution_count": 27,
     "metadata": {},
     "output_type": "execute_result"
    },
    {
     "data": {
      "image/png": "[encoded data removed]",
      "text/plain": [
       "<Figure size 432x288 with 1 Axes>"
      ]
     },
     "metadata": {
      "needs_background": "light"
     },
     "output_type": "display_data"
    }
   ],
   "source": [
    "plt = df.groupby(\"grammar\").mean()[\"neg\"].plot(legend=True)\n",
    "plt = df.groupby(\"grammar\").mean()[\"pos\"].plot(legend=True)\n",
    "plt.set_title(\"Grammer\")\n",
    "plt.legend(loc=\"center left\")"
   ]
  },
  {
   "cell_type": "markdown",
   "id": "c6564406",
   "metadata": {
    "papermill": {
     "duration": 0.37621,
     "end_time": "2022-10-26T03:01:35.156741",
     "exception": false,
     "start_time": "2022-10-26T03:01:34.780531",
     "status": "completed"
    },
    "tags": []
   },
   "source": [
    "### Create a training set for grammar"
   ]
  },
  {
   "cell_type": "code",
   "execution_count": 28,
   "id": "6abb8941",
   "metadata": {
    "execution": {
     "iopub.execute_input": "2022-10-26T03:01:35.741075Z",
     "iopub.status.busy": "2022-10-26T03:01:35.740224Z",
     "iopub.status.idle": "2022-10-26T03:01:35.746186Z",
     "shell.execute_reply": "2022-10-26T03:01:35.745466Z"
    },
    "papermill": {
     "duration": 0.299774,
     "end_time": "2022-10-26T03:01:35.747848",
     "exception": false,
     "start_time": "2022-10-26T03:01:35.448074",
     "status": "completed"
    },
    "tags": []
   },
   "outputs": [],
   "source": [
    "grammar_train = df.copy()\n",
    "grammar_train = grammar_train[[\"grammar\", \"total_stopwords\", \"unique_words\", \"punctuation\", \"neg\", \"pos\", \"total_grammatical_errors\", \"unique_grammatical_errors\", \"grammatical_errors_ratio\", \"essay_length\"]]"
   ]
  },
  {
   "cell_type": "markdown",
   "id": "d14b44e1",
   "metadata": {
    "papermill": {
     "duration": 0.29182,
     "end_time": "2022-10-26T03:01:36.332122",
     "exception": false,
     "start_time": "2022-10-26T03:01:36.040302",
     "status": "completed"
    },
    "tags": []
   },
   "source": [
    "### Create test and train datasets"
   ]
  },
  {
   "cell_type": "code",
   "execution_count": 29,
   "id": "cac5b819",
   "metadata": {
    "execution": {
     "iopub.execute_input": "2022-10-26T03:01:36.984903Z",
     "iopub.status.busy": "2022-10-26T03:01:36.984320Z",
     "iopub.status.idle": "2022-10-26T03:01:36.992731Z",
     "shell.execute_reply": "2022-10-26T03:01:36.992094Z"
    },
    "papermill": {
     "duration": 0.309861,
     "end_time": "2022-10-26T03:01:36.994833",
     "exception": false,
     "start_time": "2022-10-26T03:01:36.684972",
     "status": "completed"
    },
    "tags": []
   },
   "outputs": [],
   "source": [
    "from sklearn.model_selection import train_test_split\n",
    "\n",
    "X_train, X_test, y_train, y_test = train_test_split(grammar_train.loc[:, grammar_train.columns != \"grammar\"], grammar_train[\"grammar\"], stratify=grammar_train[\"grammar\"],test_size=0.25, random_state=66)"
   ]
  },
  {
   "cell_type": "markdown",
   "id": "8648bff5",
   "metadata": {
    "papermill": {
     "duration": 0.300116,
     "end_time": "2022-10-26T03:01:37.588790",
     "exception": false,
     "start_time": "2022-10-26T03:01:37.288674",
     "status": "completed"
    },
    "tags": []
   },
   "source": [
    "### K nearest neighbor regression model\n",
    "\n",
    "We are going to train our model using the data points with favorable correlations and trends"
   ]
  },
  {
   "cell_type": "code",
   "execution_count": 30,
   "id": "1cd86b11",
   "metadata": {
    "execution": {
     "iopub.execute_input": "2022-10-26T03:01:38.164978Z",
     "iopub.status.busy": "2022-10-26T03:01:38.164383Z",
     "iopub.status.idle": "2022-10-26T03:01:47.174816Z",
     "shell.execute_reply": "2022-10-26T03:01:47.174040Z"
    },
    "papermill": {
     "duration": 9.301619,
     "end_time": "2022-10-26T03:01:47.176834",
     "exception": false,
     "start_time": "2022-10-26T03:01:37.875215",
     "status": "completed"
    },
    "tags": []
   },
   "outputs": [
    {
     "data": {
      "image/png": "[encoded data removed]",
      "text/plain": [
       "<Figure size 432x288 with 1 Axes>"
      ]
     },
     "metadata": {
      "needs_background": "light"
     },
     "output_type": "display_data"
    }
   ],
   "source": [
    "from sklearn.neighbors import KNeighborsRegressor\n",
    "import matplotlib.pyplot as plt\n",
    "\n",
    "training_accuracy = []\n",
    "test_accuracy = []\n",
    "\n",
    "neighbors = range(1, 110)\n",
    "\n",
    "for neighbor in neighbors:\n",
    "    knn = KNeighborsRegressor(n_neighbors=neighbor)\n",
    "    knn.fit(X_train, y_train)\n",
    "    knn_prediction = knn.predict(X_test)\n",
    "    training_accuracy.append(knn.score(X_train, y_train))\n",
    "    test_accuracy.append(knn.score(X_test, y_test))\n",
    "\n",
    "plt.plot(training_accuracy, label=\"training accuracy\")\n",
    "plt.plot(test_accuracy, label=\"test accuracy\")\n",
    "plt.ylabel(\"Accuracy\")\n",
    "plt.xlabel(\"n_neighbors\")\n",
    "plt.legend()\n",
    "plt.savefig(\"knn_regression_model\")"
   ]
  },
  {
   "cell_type": "code",
   "execution_count": 31,
   "id": "847949c1",
   "metadata": {
    "execution": {
     "iopub.execute_input": "2022-10-26T03:01:47.820808Z",
     "iopub.status.busy": "2022-10-26T03:01:47.820368Z",
     "iopub.status.idle": "2022-10-26T03:01:47.854978Z",
     "shell.execute_reply": "2022-10-26T03:01:47.854000Z"
    },
    "papermill": {
     "duration": 0.335894,
     "end_time": "2022-10-26T03:01:47.856934",
     "exception": false,
     "start_time": "2022-10-26T03:01:47.521040",
     "status": "completed"
    },
    "tags": []
   },
   "outputs": [
    {
     "data": {
      "text/plain": [
       "0.17208467749714362"
      ]
     },
     "execution_count": 31,
     "metadata": {},
     "output_type": "execute_result"
    }
   ],
   "source": [
    "from sklearn.neighbors import KNeighborsRegressor\n",
    "knn = KNeighborsRegressor(n_neighbors=20)\n",
    "knn.fit(X_train, y_train)\n",
    "knn_prediction = knn.predict(X_test)\n",
    "knn.score(X_test, y_test)"
   ]
  },
  {
   "cell_type": "markdown",
   "id": "ee2fcc9c",
   "metadata": {
    "papermill": {
     "duration": 0.285625,
     "end_time": "2022-10-26T03:01:48.441285",
     "exception": false,
     "start_time": "2022-10-26T03:01:48.155660",
     "status": "completed"
    },
    "tags": []
   },
   "source": [
    "### Random forest\n",
    "\n",
    "We are going to train our model using the data points with favorable correlations and trends"
   ]
  },
  {
   "cell_type": "code",
   "execution_count": 32,
   "id": "084b87d9",
   "metadata": {
    "execution": {
     "iopub.execute_input": "2022-10-26T03:01:49.088379Z",
     "iopub.status.busy": "2022-10-26T03:01:49.088068Z",
     "iopub.status.idle": "2022-10-26T03:03:00.364021Z",
     "shell.execute_reply": "2022-10-26T03:03:00.362958Z"
    },
    "papermill": {
     "duration": 71.921894,
     "end_time": "2022-10-26T03:03:00.651875",
     "exception": false,
     "start_time": "2022-10-26T03:01:48.729981",
     "status": "completed"
    },
    "tags": []
   },
   "outputs": [
    {
     "data": {
      "image/png": "[encoded data removed]",
      "text/plain": [
       "<Figure size 432x288 with 1 Axes>"
      ]
     },
     "metadata": {
      "needs_background": "light"
     },
     "output_type": "display_data"
    }
   ],
   "source": [
    "from sklearn.ensemble import RandomForestRegressor\n",
    "\n",
    "training_accuracy = []\n",
    "test_accuracy = []\n",
    "\n",
    "estimators = range(1, 100)\n",
    "\n",
    "for n_estimators in estimators:\n",
    "    rf = RandomForestRegressor(n_estimators=n_estimators, random_state = 0)\n",
    "    rf.fit(X_train, y_train)\n",
    "    rf_prediction = rf.predict(X_test)\n",
    "    training_accuracy.append(rf.score(X_train, y_train))\n",
    "    test_accuracy.append(rf.score(X_test, y_test))\n",
    "\n",
    "plt.plot(estimators, training_accuracy, label=\"training accuracy\")\n",
    "plt.plot(estimators, test_accuracy, label=\"test accuracy\")\n",
    "plt.ylabel(\"Accuracy\")\n",
    "plt.xlabel(\"n_neighbors\")\n",
    "plt.legend()\n",
    "plt.savefig(\"rf_regression_model\")"
   ]
  },
  {
   "cell_type": "code",
   "execution_count": 33,
   "id": "d5375896",
   "metadata": {
    "execution": {
     "iopub.execute_input": "2022-10-26T03:03:01.242846Z",
     "iopub.status.busy": "2022-10-26T03:03:01.242297Z",
     "iopub.status.idle": "2022-10-26T03:03:02.580226Z",
     "shell.execute_reply": "2022-10-26T03:03:02.579203Z"
    },
    "papermill": {
     "duration": 1.640444,
     "end_time": "2022-10-26T03:03:02.582484",
     "exception": false,
     "start_time": "2022-10-26T03:03:00.942040",
     "status": "completed"
    },
    "tags": []
   },
   "outputs": [
    {
     "data": {
      "text/plain": [
       "0.2705448258013282"
      ]
     },
     "execution_count": 33,
     "metadata": {},
     "output_type": "execute_result"
    }
   ],
   "source": [
    "rf = RandomForestRegressor(n_estimators = 95, random_state = 0)\n",
    "rf.fit(X_train, y_train)\n",
    "rf_prediction = rf.predict(X_test)\n",
    "rf.score(X_test, y_test)"
   ]
  },
  {
   "cell_type": "markdown",
   "id": "be8372e0",
   "metadata": {
    "papermill": {
     "duration": 0.367866,
     "end_time": "2022-10-26T03:03:03.245230",
     "exception": false,
     "start_time": "2022-10-26T03:03:02.877364",
     "status": "completed"
    },
    "tags": []
   },
   "source": [
    "### Gradient boost"
   ]
  },
  {
   "cell_type": "code",
   "execution_count": 34,
   "id": "4345726e",
   "metadata": {
    "execution": {
     "iopub.execute_input": "2022-10-26T03:03:03.838094Z",
     "iopub.status.busy": "2022-10-26T03:03:03.837479Z",
     "iopub.status.idle": "2022-10-26T03:10:10.730290Z",
     "shell.execute_reply": "2022-10-26T03:10:10.729475Z"
    },
    "papermill": {
     "duration": 427.475246,
     "end_time": "2022-10-26T03:10:11.016223",
     "exception": false,
     "start_time": "2022-10-26T03:03:03.540977",
     "status": "completed"
    },
    "tags": []
   },
   "outputs": [
    {
     "data": {
      "image/png": "[encoded data removed]",
      "text/plain": [
       "<Figure size 432x288 with 1 Axes>"
      ]
     },
     "metadata": {
      "needs_background": "light"
     },
     "output_type": "display_data"
    }
   ],
   "source": [
    "from sklearn.datasets import make_regression\n",
    "from sklearn.ensemble import GradientBoostingRegressor\n",
    "\n",
    "training_accuracy = []\n",
    "test_accuracy = []\n",
    "\n",
    "estimators = range(1, 400)\n",
    "\n",
    "for n_estimators in estimators:\n",
    "    gbr = GradientBoostingRegressor(n_estimators=n_estimators, random_state=0)\n",
    "    gbr.fit(X_train, y_train)\n",
    "    gbr.predict(X_test)\n",
    "    gbr.score(X_test, y_test)\n",
    "    training_accuracy.append(gbr.score(X_train, y_train))\n",
    "    test_accuracy.append(gbr.score(X_test, y_test))\n",
    "\n",
    "plt.plot(estimators, training_accuracy, label=\"training accuracy\")\n",
    "plt.plot(estimators, test_accuracy, label=\"test accuracy\")\n",
    "plt.ylabel(\"Accuracy\")\n",
    "plt.xlabel(\"n_neighbors\")\n",
    "plt.legend()\n",
    "plt.savefig(\"gb_regression_model\")"
   ]
  },
  {
   "cell_type": "code",
   "execution_count": 35,
   "id": "cead94cf",
   "metadata": {
    "execution": {
     "iopub.execute_input": "2022-10-26T03:10:11.625997Z",
     "iopub.status.busy": "2022-10-26T03:10:11.625624Z",
     "iopub.status.idle": "2022-10-26T03:10:12.108154Z",
     "shell.execute_reply": "2022-10-26T03:10:12.107176Z"
    },
    "papermill": {
     "duration": 0.810589,
     "end_time": "2022-10-26T03:10:12.109791",
     "exception": false,
     "start_time": "2022-10-26T03:10:11.299202",
     "status": "completed"
    },
    "tags": []
   },
   "outputs": [
    {
     "data": {
      "text/plain": [
       "0.31628592783762133"
      ]
     },
     "execution_count": 35,
     "metadata": {},
     "output_type": "execute_result"
    }
   ],
   "source": [
    "from sklearn.datasets import make_regression\n",
    "from sklearn.ensemble import GradientBoostingRegressor\n",
    "gbr = GradientBoostingRegressor(n_estimators=90, random_state=0)\n",
    "gbr.fit(X_train, y_train)\n",
    "gbr.predict(X_test)\n",
    "gbr.score(X_test, y_test)"
   ]
  },
  {
   "cell_type": "markdown",
   "id": "9731b1de",
   "metadata": {
    "papermill": {
     "duration": 0.28592,
     "end_time": "2022-10-26T03:10:12.684104",
     "exception": false,
     "start_time": "2022-10-26T03:10:12.398184",
     "status": "completed"
    },
    "tags": []
   },
   "source": [
    "### Add a function for rounding to the nearest number in the prediction"
   ]
  },
  {
   "cell_type": "code",
   "execution_count": 36,
   "id": "4319fedb",
   "metadata": {
    "execution": {
     "iopub.execute_input": "2022-10-26T03:10:13.254180Z",
     "iopub.status.busy": "2022-10-26T03:10:13.253432Z",
     "iopub.status.idle": "2022-10-26T03:10:13.258265Z",
     "shell.execute_reply": "2022-10-26T03:10:13.257691Z"
    },
    "papermill": {
     "duration": 0.292556,
     "end_time": "2022-10-26T03:10:13.259929",
     "exception": false,
     "start_time": "2022-10-26T03:10:12.967373",
     "status": "completed"
    },
    "tags": []
   },
   "outputs": [],
   "source": [
    "import numpy as np\n",
    "\n",
    "def closest(K):\n",
    "     lst = [1.0, 1.5, 2.0, 2.5, 3.0, 3.5, 4.0, 4.5, 5.0]\n",
    "     lst = np.asarray(lst)\n",
    "     idx = (np.abs(lst - K)).argmin()\n",
    "     return lst[idx]"
   ]
  },
  {
   "cell_type": "code",
   "execution_count": 37,
   "id": "1b776c57",
   "metadata": {
    "execution": {
     "iopub.execute_input": "2022-10-26T03:10:13.872828Z",
     "iopub.status.busy": "2022-10-26T03:10:13.872333Z",
     "iopub.status.idle": "2022-10-26T03:10:13.905304Z",
     "shell.execute_reply": "2022-10-26T03:10:13.904404Z"
    },
    "papermill": {
     "duration": 0.322058,
     "end_time": "2022-10-26T03:10:13.907590",
     "exception": false,
     "start_time": "2022-10-26T03:10:13.585532",
     "status": "completed"
    },
    "tags": []
   },
   "outputs": [],
   "source": [
    "# Make a copy of the output and dump it to a separate dataframe\n",
    "grammar_output = X_test.copy()\n",
    "grammar_original = grammar_train.copy()\n",
    "grammar_output[\"knn_prediction\"] = knn_prediction\n",
    "grammar_output[\"rf_prediction\"] = rf_prediction\n",
    "grammar_output[\"gbr_prediction\"] = rf_prediction\n",
    "\n",
    "grammar_inner = pd.merge(grammar_output, grammar_original, left_index=True, right_index=True)\n",
    "\n",
    "# Provide output in the same table for viewing and evaluation\n",
    "knn_adjusted_score = [closest(entry) for entry in grammar_inner[\"knn_prediction\"]]\n",
    "grammar_inner = grammar_inner.assign(knn_adjusted_score=knn_adjusted_score)\n",
    "grammar_inner[\"knn_differential_adjusted\"] = grammar_inner[\"knn_adjusted_score\"] - grammar_inner[\"grammar\"]\n",
    "grammar_inner[\"knn_differential\"] = grammar_inner[\"knn_prediction\"] - grammar_inner[\"grammar\"]\n",
    "\n",
    "# Provide output in the same table for viewing and evaluation\n",
    "rf_adjusted_score = [closest(entry) for entry in grammar_inner[\"rf_prediction\"]]\n",
    "grammar_inner = grammar_inner.assign(rf_adjusted_score=rf_adjusted_score)\n",
    "grammar_inner[\"rf_differential_adjusted\"] = grammar_inner[\"rf_adjusted_score\"] - grammar_inner[\"grammar\"]\n",
    "grammar_inner[\"rf_differential\"] = grammar_inner[\"rf_prediction\"] - grammar_inner[\"grammar\"]\n",
    "\n",
    "# Provide output in the same table for viewing and evaluation\n",
    "gbr_adjusted_score = [closest(entry) for entry in grammar_inner[\"gbr_prediction\"]]\n",
    "grammar_inner = grammar_inner.assign(gbr_adjusted_score=gbr_adjusted_score)\n",
    "grammar_inner[\"gbr_differential_adjusted\"] = grammar_inner[\"gbr_adjusted_score\"] - grammar_inner[\"grammar\"]\n",
    "grammar_inner[\"gbr_differential\"] = grammar_inner[\"gbr_prediction\"] - grammar_inner[\"grammar\"]"
   ]
  },
  {
   "cell_type": "code",
   "execution_count": 38,
   "id": "51999bea",
   "metadata": {
    "execution": {
     "iopub.execute_input": "2022-10-26T03:10:14.480862Z",
     "iopub.status.busy": "2022-10-26T03:10:14.480529Z",
     "iopub.status.idle": "2022-10-26T03:10:14.489396Z",
     "shell.execute_reply": "2022-10-26T03:10:14.488732Z"
    },
    "papermill": {
     "duration": 0.297756,
     "end_time": "2022-10-26T03:10:14.490878",
     "exception": false,
     "start_time": "2022-10-26T03:10:14.193122",
     "status": "completed"
    },
    "tags": []
   },
   "outputs": [
    {
     "data": {
      "text/plain": [
       " 0.0    317\n",
       " 0.5    232\n",
       "-0.5    223\n",
       "-1.0     95\n",
       " 1.0     80\n",
       " 1.5     17\n",
       "-1.5     11\n",
       "-2.0      2\n",
       " 2.0      1\n",
       "Name: gbr_differential_adjusted, dtype: int64"
      ]
     },
     "execution_count": 38,
     "metadata": {},
     "output_type": "execute_result"
    }
   ],
   "source": [
    "grammar_inner[\"gbr_differential_adjusted\"].value_counts()"
   ]
  },
  {
   "cell_type": "markdown",
   "id": "15023ee5",
   "metadata": {
    "papermill": {
     "duration": 0.336928,
     "end_time": "2022-10-26T03:10:15.115215",
     "exception": false,
     "start_time": "2022-10-26T03:10:14.778287",
     "status": "completed"
    },
    "tags": []
   },
   "source": [
    "### Feature Importance\n",
    "\n",
    "We will analyze the feature importance for Random Forest and Grandient Boost. Note: KNN Regressor does not offer this data. It appears the `grammatical_errors_ratio` data point provides the best feature for predicting grammar scores. Due to randomness in essay length, total grammatical errors alone does not give us good insight on whether grammar is above average. Unique words used in addition to the number of unique grammatical errors appears correlated to the model's prediction. This is possibly attributing an astute writer's range vocabulary to a level of advancement in various categories. In addition, the diversity of grammatical errors could indicate a user's consciousness of varying grammar rules. "
   ]
  },
  {
   "cell_type": "code",
   "execution_count": 39,
   "id": "0414e5a4",
   "metadata": {
    "execution": {
     "iopub.execute_input": "2022-10-26T03:10:15.691535Z",
     "iopub.status.busy": "2022-10-26T03:10:15.690915Z",
     "iopub.status.idle": "2022-10-26T03:10:16.109081Z",
     "shell.execute_reply": "2022-10-26T03:10:16.108289Z"
    },
    "papermill": {
     "duration": 0.707766,
     "end_time": "2022-10-26T03:10:16.111246",
     "exception": false,
     "start_time": "2022-10-26T03:10:15.403480",
     "status": "completed"
    },
    "tags": []
   },
   "outputs": [
    {
     "data": {
      "image/png": "[encoded data removed]",
      "text/plain": [
       "<Figure size 648x360 with 1 Axes>"
      ]
     },
     "metadata": {
      "needs_background": "light"
     },
     "output_type": "display_data"
    },
    {
     "data": {
      "image/png": "[encoded data removed]",
      "text/plain": [
       "<Figure size 648x360 with 1 Axes>"
      ]
     },
     "metadata": {
      "needs_background": "light"
     },
     "output_type": "display_data"
    }
   ],
   "source": [
    "import matplotlib.pyplot as plt\n",
    "\n",
    "for model in [gbr, rf]:\n",
    "    entries = []\n",
    "    for entry in sorted(model.feature_importances_):\n",
    "        entries.append(list(model.feature_importances_).index(entry))\n",
    "    features = [X_train.columns[entry] for entry in entries]\n",
    "    plt.figure(figsize=(len(features),5))\n",
    "    n_features = len(features)\n",
    "    plt.barh(range(n_features), sorted(model.feature_importances_), align=\"center\", color=\"green\")\n",
    "    plt.yticks(np.arange(n_features), features)\n",
    "    plt.xlabel(\"Feature importance\")\n",
    "    plt.ylabel(\"Feature\")\n",
    "    plt.ylim(-1, n_features)\n",
    "    if model == gbr:\n",
    "        plt.title(\"Gradient Boost\")\n",
    "    else:\n",
    "        plt.title(\"Random Forest\")"
   ]
  },
  {
   "cell_type": "markdown",
   "id": "1e5529e4",
   "metadata": {
    "papermill": {
     "duration": 0.286123,
     "end_time": "2022-10-26T03:10:16.700481",
     "exception": false,
     "start_time": "2022-10-26T03:10:16.414358",
     "status": "completed"
    },
    "tags": []
   },
   "source": [
    "### Vocabulary Training"
   ]
  },
  {
   "cell_type": "code",
   "execution_count": 40,
   "id": "4bc18545",
   "metadata": {
    "execution": {
     "iopub.execute_input": "2022-10-26T03:10:17.356979Z",
     "iopub.status.busy": "2022-10-26T03:10:17.355997Z",
     "iopub.status.idle": "2022-10-26T03:10:17.366202Z",
     "shell.execute_reply": "2022-10-26T03:10:17.365597Z"
    },
    "papermill": {
     "duration": 0.309467,
     "end_time": "2022-10-26T03:10:17.367874",
     "exception": false,
     "start_time": "2022-10-26T03:10:17.058407",
     "status": "completed"
    },
    "tags": []
   },
   "outputs": [],
   "source": [
    "dataframes = {}\n",
    "for entry in [\"vocabulary\", \"cohesion\", \"phraseology\", \"syntax\", \"conventions\", \"grammar\"]:\n",
    "    features_ = [entry, \"total_stopwords\", \"unique_words\", \"punctuation\", \"neg\", \"pos\", \"total_grammatical_errors\", \"unique_grammatical_errors\", \"grammatical_errors_ratio\", \"essay_length\"]\n",
    "    placeholder = df.copy()\n",
    "    placeholder = placeholder[features_]\n",
    "    dataframes[entry] = placeholder"
   ]
  },
  {
   "cell_type": "code",
   "execution_count": 41,
   "id": "a6df24c4",
   "metadata": {
    "execution": {
     "iopub.execute_input": "2022-10-26T03:10:17.993914Z",
     "iopub.status.busy": "2022-10-26T03:10:17.993592Z",
     "iopub.status.idle": "2022-10-26T03:13:00.380504Z",
     "shell.execute_reply": "2022-10-26T03:13:00.379495Z"
    },
    "papermill": {
     "duration": 163.003317,
     "end_time": "2022-10-26T03:13:00.671137",
     "exception": false,
     "start_time": "2022-10-26T03:10:17.667820",
     "status": "completed"
    },
    "tags": []
   },
   "outputs": [
    {
     "data": {
      "image/png": "[encoded data removed]",
      "text/plain": [
       "<Figure size 432x288 with 1 Axes>"
      ]
     },
     "metadata": {
      "needs_background": "light"
     },
     "output_type": "display_data"
    }
   ],
   "source": [
    "from sklearn.datasets import make_regression\n",
    "from sklearn.ensemble import GradientBoostingRegressor\n",
    "\n",
    "for key, value in dataframes.items():\n",
    "    X_train, X_test, y_train, y_test = train_test_split(value.loc[:, value.columns != key], value[key], stratify=value[key],test_size=0.25, random_state=66)\n",
    "    training_accuracy = []\n",
    "    test_accuracy = []\n",
    "\n",
    "    estimators = range(1, 100)\n",
    "\n",
    "    for n_estimators in estimators:\n",
    "        gbr = GradientBoostingRegressor(n_estimators=n_estimators, random_state=0)\n",
    "        gbr.fit(X_train, y_train)\n",
    "        gbr.predict(X_test)\n",
    "        gbr.score(X_test, y_test)\n",
    "        training_accuracy.append(gbr.score(X_train, y_train))\n",
    "        test_accuracy.append(gbr.score(X_test, y_test))\n",
    "\n",
    "    plt.plot(estimators, test_accuracy, label=f\"{key} test accuracy\")\n",
    "    plt.ylabel(\"Accuracy\")\n",
    "    plt.xlabel(\"n_neighbors\")\n",
    "    plt.legend()\n",
    "    plt.savefig(\"gb_regression_model\")\n",
    "    plt.title(\"Testing other categories\")"
   ]
  },
  {
   "cell_type": "code",
   "execution_count": 42,
   "id": "601e2cc7",
   "metadata": {
    "execution": {
     "iopub.execute_input": "2022-10-26T03:13:01.336151Z",
     "iopub.status.busy": "2022-10-26T03:13:01.335618Z",
     "iopub.status.idle": "2022-10-26T03:13:02.679900Z",
     "shell.execute_reply": "2022-10-26T03:13:02.678691Z"
    },
    "papermill": {
     "duration": 1.65538,
     "end_time": "2022-10-26T03:13:02.682537",
     "exception": false,
     "start_time": "2022-10-26T03:13:01.027157",
     "status": "completed"
    },
    "tags": []
   },
   "outputs": [
    {
     "name": "stdout",
     "output_type": "stream",
     "text": [
      "vocabulary score: 0.3350185066336717\n",
      "cohesion score: 0.29492783427258285\n",
      "phraseology score: 0.32787065385204206\n",
      "syntax score: 0.3328885198857364\n",
      "conventions score: 0.43586853376154255\n",
      "grammar score: 0.30953330652897415\n"
     ]
    }
   ],
   "source": [
    "feature_importances = {}\n",
    "for key, value in dataframes.items():\n",
    "    X_train, X_test, y_train, y_test = train_test_split(value.loc[:, value.columns != key], value[key], stratify=value[key],test_size=0.25, random_state=66)\n",
    "    gbr = GradientBoostingRegressor(n_estimators=40, random_state=0)\n",
    "    gbr.fit(X_train, y_train)\n",
    "    gbr.predict(X_test)\n",
    "    print(f\"{key} score: {gbr.score(X_test, y_test)}\")\n",
    "    feature_importances[key] = gbr.feature_importances_"
   ]
  },
  {
   "cell_type": "code",
   "execution_count": 43,
   "id": "a8d429e9",
   "metadata": {
    "execution": {
     "iopub.execute_input": "2022-10-26T03:13:03.264970Z",
     "iopub.status.busy": "2022-10-26T03:13:03.264590Z",
     "iopub.status.idle": "2022-10-26T03:13:04.212015Z",
     "shell.execute_reply": "2022-10-26T03:13:04.211052Z"
    },
    "papermill": {
     "duration": 1.240673,
     "end_time": "2022-10-26T03:13:04.213884",
     "exception": false,
     "start_time": "2022-10-26T03:13:02.973211",
     "status": "completed"
    },
    "tags": []
   },
   "outputs": [
    {
     "data": {
      "image/png": "[encoded data removed]",
      "text/plain": [
       "<Figure size 648x360 with 1 Axes>"
      ]
     },
     "metadata": {
      "needs_background": "light"
     },
     "output_type": "display_data"
    },
    {
     "data": {
      "image/png": "[encoded data removed]",
      "text/plain": [
       "<Figure size 648x360 with 1 Axes>"
      ]
     },
     "metadata": {
      "needs_background": "light"
     },
     "output_type": "display_data"
    },
    {
     "data": {
      "image/png": "[encoded data removed]",
      "text/plain": [
       "<Figure size 648x360 with 1 Axes>"
      ]
     },
     "metadata": {
      "needs_background": "light"
     },
     "output_type": "display_data"
    },
    {
     "data": {
      "image/png": "[encoded data removed]",
      "text/plain": [
       "<Figure size 648x360 with 1 Axes>"
      ]
     },
     "metadata": {
      "needs_background": "light"
     },
     "output_type": "display_data"
    },
    {
     "data": {
      "image/png": "[encoded data removed]",
      "text/plain": [
       "<Figure size 648x360 with 1 Axes>"
      ]
     },
     "metadata": {
      "needs_background": "light"
     },
     "output_type": "display_data"
    },
    {
     "data": {
      "image/png": "[encoded data removed]",
      "text/plain": [
       "<Figure size 648x360 with 1 Axes>"
      ]
     },
     "metadata": {
      "needs_background": "light"
     },
     "output_type": "display_data"
    }
   ],
   "source": [
    "import matplotlib.pyplot as plt\n",
    "\n",
    "for key, value in feature_importances.items():\n",
    "    entries = []\n",
    "    for entry in sorted(value):\n",
    "        entries.append(list(value).index(entry))\n",
    "    features = [X_train.columns[entry] for entry in entries]\n",
    "    plt.figure(figsize=(len(features),5))\n",
    "    n_features = len(features)\n",
    "    plt.barh(range(n_features), sorted(value), align=\"center\", color=\"green\")\n",
    "    plt.yticks(np.arange(n_features), features)\n",
    "    plt.xlabel(\"Feature importance\")\n",
    "    plt.ylabel(\"Feature\")\n",
    "    plt.ylim(-1, n_features)\n",
    "    plt.title(key)"
   ]
  },
  {
   "cell_type": "code",
   "execution_count": 44,
   "id": "6dd08852",
   "metadata": {
    "execution": {
     "iopub.execute_input": "2022-10-26T03:13:04.861021Z",
     "iopub.status.busy": "2022-10-26T03:13:04.860054Z",
     "iopub.status.idle": "2022-10-26T03:13:04.865986Z",
     "shell.execute_reply": "2022-10-26T03:13:04.865337Z"
    },
    "papermill": {
     "duration": 0.366027,
     "end_time": "2022-10-26T03:13:04.867542",
     "exception": false,
     "start_time": "2022-10-26T03:13:04.501515",
     "status": "completed"
    },
    "tags": []
   },
   "outputs": [],
   "source": [
    "custom_features = {}\n",
    "custom_features[\"vocabulary\"] = [\"vocabulary\", \"grammatical_errors_ratio\", \"unique_words\", \"unique_grammatical_errors\", \"total_grammatical_errors\", \"essay_length\"]\n",
    "custom_features[\"cohesion\"] = [\"cohesion\", \"grammatical_errors_ratio\", \"unique_words\", \"unique_grammatical_errors\", \"punctuation\", \"total_grammatical_errors\"]\n",
    "custom_features[\"syntax\"] = [\"syntax\", \"grammatical_errors_ratio\", \"unique_words\", \"unique_grammatical_errors\", \"punctuation\"]\n",
    "custom_features[\"phraseology\"] = [\"phraseology\", \"grammatical_errors_ratio\", \"unique_words\", \"unique_grammatical_errors\"]\n",
    "custom_features[\"conventions\"] = [\"conventions\", \"grammatical_errors_ratio\", \"unique_words\", \"essay_length\", \"unique_grammatical_errors\", \"punctuation\"]\n",
    "custom_features[\"grammar\"] = [\"grammar\", \"grammatical_errors_ratio\", \"unique_words\", \"unique_grammatical_errors\", \"punctuation\", \"essay_length\"]"
   ]
  },
  {
   "cell_type": "code",
   "execution_count": 45,
   "id": "1b9638ee",
   "metadata": {
    "execution": {
     "iopub.execute_input": "2022-10-26T03:13:05.453607Z",
     "iopub.status.busy": "2022-10-26T03:13:05.453301Z",
     "iopub.status.idle": "2022-10-26T03:13:06.222421Z",
     "shell.execute_reply": "2022-10-26T03:13:06.220975Z"
    },
    "papermill": {
     "duration": 1.066473,
     "end_time": "2022-10-26T03:13:06.224361",
     "exception": false,
     "start_time": "2022-10-26T03:13:05.157888",
     "status": "completed"
    },
    "tags": []
   },
   "outputs": [
    {
     "name": "stdout",
     "output_type": "stream",
     "text": [
      "vocabulary score: 0.3310142873027919\n",
      "cohesion score: 0.29332764371155984\n",
      "phraseology score: 0.32357830317468617\n",
      "syntax score: 0.3278143624541885\n",
      "conventions score: 0.43461881531051627\n",
      "grammar score: 0.3030381161324621\n"
     ]
    }
   ],
   "source": [
    "import pickle\n",
    "\n",
    "feature_importances = {}\n",
    "for key, value in dataframes.items():\n",
    "    value = value[custom_features[key]]\n",
    "    value.head()\n",
    "    X_train, X_test, y_train, y_test = train_test_split(value.loc[:, value.columns != key], value[key], stratify=value[key],test_size=0.25, random_state=66)\n",
    "    gbr = GradientBoostingRegressor(n_estimators=40, random_state=0)\n",
    "    gbr.fit(X_train, y_train)\n",
    "    gbr.predict(X_test)\n",
    "    print(f\"{key} score: {gbr.score(X_test, y_test)}\")\n",
    "    filename = f\"/kaggle/working/{key}.sav\"\n",
    "    pickle.dump(gbr, open(filename, \"wb\"))"
   ]
  },
  {
   "cell_type": "code",
   "execution_count": 46,
   "id": "dee33d07",
   "metadata": {
    "execution": {
     "iopub.execute_input": "2022-10-26T03:13:06.805662Z",
     "iopub.status.busy": "2022-10-26T03:13:06.805330Z",
     "iopub.status.idle": "2022-10-26T03:13:15.583117Z",
     "shell.execute_reply": "2022-10-26T03:13:15.582354Z"
    },
    "papermill": {
     "duration": 9.06854,
     "end_time": "2022-10-26T03:13:15.585011",
     "exception": false,
     "start_time": "2022-10-26T03:13:06.516471",
     "status": "completed"
    },
    "tags": []
   },
   "outputs": [],
   "source": [
    "# Import file and make dataframe\n",
    "readfile = \"/kaggle/input/feedback-prize-english-language-learning/test.csv\"\n",
    "readdata = pd.read_csv(readfile)\n",
    "\n",
    "# Get average sentence length and essay length\n",
    "avg_sentence_length = []\n",
    "for entry in readdata[\"full_text\"]:\n",
    "    lengths = [len(sentence) for sentence in entry.split(\".\")]\n",
    "    average = sum(lengths) / len(lengths)\n",
    "    avg_sentence_length.append(average)\n",
    "readdata = readdata.assign(avg_sentence_length=avg_sentence_length)\n",
    "lengths = [len(entry.split(\" \")) for entry in readdata[\"full_text\"]]\n",
    "readdata = readdata.assign(essay_length=lengths)\n",
    "\n",
    "# Get stopwords, non-stopwords, and unique words\n",
    "total_stopwords = []\n",
    "total_non_stopwords = []\n",
    "unique_words = []\n",
    "for entry in readdata[\"full_text\"]:\n",
    "    total_stopwords.append(len([word for word in entry.split(\" \") if word in stopwords.words('english')]))\n",
    "    total_non_stopwords.append(len([word for word in entry.split(\" \") if word not in stopwords.words('english')]))\n",
    "    unique_words.append(len(set(entry.split(\" \"))))\n",
    "readdata = readdata.assign(total_stopwords=total_stopwords)\n",
    "readdata = readdata.assign(total_non_stopwords=total_non_stopwords)\n",
    "readdata = readdata.assign(unique_words=unique_words)\n",
    "\n",
    "# Count the punctuation errors\n",
    "count = lambda l1,l2: sum([1 for x in l1 if x in l2])\n",
    "punctuation = []\n",
    "for entry in readdata[\"full_text\"]:\n",
    "    punctuation.append(count(entry,set(string.punctuation)))\n",
    "readdata = readdata.assign(punctuation=punctuation)\n",
    "\n",
    "# Count the grammatical errors\n",
    "# Assign the total and a ratio\n",
    "import language_tool_python\n",
    "tool = language_tool_python.LanguageTool('en-US')\n",
    "total_grammatical_errors = []\n",
    "unique_grammatical_errors = []\n",
    "for entry in readdata[\"full_text\"]:\n",
    "    matches = tool.check(entry)\n",
    "    # unique grammatical errors\n",
    "    unique_grammatical_errors.append(len(set([rule.ruleId for rule in matches])))\n",
    "    # total grammatical errors\n",
    "    total_grammatical_errors.append(len(matches))\n",
    "readdata = readdata.assign(total_grammatical_errors=total_grammatical_errors)\n",
    "readdata = readdata.assign(unique_grammatical_errors=unique_grammatical_errors)\n",
    "grammatical_errors_ratio = []\n",
    "for index, entry in readdata.iterrows():\n",
    "    ratio = entry[\"total_grammatical_errors\"] / entry[\"essay_length\"]\n",
    "    grammatical_errors_ratio.append(ratio)\n",
    "readdata = readdata.assign(grammatical_errors_ratio=grammatical_errors_ratio)\n",
    "\n",
    "# Grab sentinment from the text\n",
    "import nltk\n",
    "from nltk.sentiment.vader import SentimentIntensityAnalyzer\n",
    "\n",
    "sid = SentimentIntensityAnalyzer()\n",
    "readdata[['neg', 'neu', 'pos', 'compound']] = readdata['full_text'].apply(sid.polarity_scores).apply(pd.Series)\n",
    "\n",
    "dataframes_list = {}\n",
    "for entry in [\"vocabulary\", \"cohesion\", \"phraseology\", \"syntax\", \"conventions\", \"grammar\"]:\n",
    "    features_ = [\"total_stopwords\", \"unique_words\", \"punctuation\", \"neg\", \"pos\", \"total_grammatical_errors\", \"unique_grammatical_errors\", \"grammatical_errors_ratio\", \"essay_length\"]\n",
    "    placeholder = readdata.copy()\n",
    "    placeholder = placeholder[features_]\n",
    "    dataframes_list[entry] = placeholder\n",
    "\n",
    "custom_features = {}\n",
    "custom_features[\"vocabulary\"] = [\"grammatical_errors_ratio\", \"unique_words\", \"unique_grammatical_errors\", \"total_grammatical_errors\", \"essay_length\"]\n",
    "custom_features[\"cohesion\"] = [\"grammatical_errors_ratio\", \"unique_words\", \"unique_grammatical_errors\", \"punctuation\", \"total_grammatical_errors\"]\n",
    "custom_features[\"syntax\"] = [\"grammatical_errors_ratio\", \"unique_words\", \"unique_grammatical_errors\", \"punctuation\"]\n",
    "custom_features[\"phraseology\"] = [\"grammatical_errors_ratio\", \"unique_words\", \"unique_grammatical_errors\"]\n",
    "custom_features[\"conventions\"] = [\"grammatical_errors_ratio\", \"unique_words\", \"essay_length\", \"unique_grammatical_errors\", \"punctuation\"]\n",
    "custom_features[\"grammar\"] = [\"grammatical_errors_ratio\", \"unique_words\", \"unique_grammatical_errors\", \"punctuation\", \"essay_length\"]"
   ]
  },
  {
   "cell_type": "code",
   "execution_count": 47,
   "id": "aa879ac0",
   "metadata": {
    "execution": {
     "iopub.execute_input": "2022-10-26T03:13:16.215423Z",
     "iopub.status.busy": "2022-10-26T03:13:16.214832Z",
     "iopub.status.idle": "2022-10-26T03:13:16.244547Z",
     "shell.execute_reply": "2022-10-26T03:13:16.243912Z"
    },
    "papermill": {
     "duration": 0.370738,
     "end_time": "2022-10-26T03:13:16.246203",
     "exception": false,
     "start_time": "2022-10-26T03:13:15.875465",
     "status": "completed"
    },
    "tags": []
   },
   "outputs": [],
   "source": [
    "for key, value in dataframes_list.items():\n",
    "    value = value[custom_features[key]]\n",
    "    loaded_model = pickle.load(open(f\"{key}.sav\", \"rb\"))\n",
    "    predict_data = loaded_model.predict(value)\n",
    "    adjusted_score = [closest(entry) for entry in predict_data]\n",
    "    readdata = readdata.assign(temp_prediction=adjusted_score)\n",
    "    readdata = readdata.rename(columns={\"temp_prediction\": key})"
   ]
  },
  {
   "cell_type": "code",
   "execution_count": 48,
   "id": "a83fd89a",
   "metadata": {
    "execution": {
     "iopub.execute_input": "2022-10-26T03:13:16.823592Z",
     "iopub.status.busy": "2022-10-26T03:13:16.822976Z",
     "iopub.status.idle": "2022-10-26T03:13:16.827572Z",
     "shell.execute_reply": "2022-10-26T03:13:16.826990Z"
    },
    "papermill": {
     "duration": 0.295921,
     "end_time": "2022-10-26T03:13:16.829606",
     "exception": false,
     "start_time": "2022-10-26T03:13:16.533685",
     "status": "completed"
    },
    "tags": []
   },
   "outputs": [],
   "source": [
    "readdata = readdata[[\"text_id\", \"cohesion\", \"syntax\", \"vocabulary\", \"phraseology\", \"grammar\", \"conventions\"]]"
   ]
  },
  {
   "cell_type": "code",
   "execution_count": 49,
   "id": "0d3e9c1d",
   "metadata": {
    "execution": {
     "iopub.execute_input": "2022-10-26T03:13:17.462437Z",
     "iopub.status.busy": "2022-10-26T03:13:17.461903Z",
     "iopub.status.idle": "2022-10-26T03:13:17.468556Z",
     "shell.execute_reply": "2022-10-26T03:13:17.467978Z"
    },
    "papermill": {
     "duration": 0.346446,
     "end_time": "2022-10-26T03:13:17.470179",
     "exception": false,
     "start_time": "2022-10-26T03:13:17.123733",
     "status": "completed"
    },
    "tags": []
   },
   "outputs": [],
   "source": [
    "readdata.to_csv(\"/kaggle/working/submission.csv\")"
   ]
  },
  {
   "cell_type": "code",
   "execution_count": null,
   "id": "c3963db5",
   "metadata": {
    "papermill": {
     "duration": 0.289767,
     "end_time": "2022-10-26T03:13:18.051633",
     "exception": false,
     "start_time": "2022-10-26T03:13:17.761866",
     "status": "completed"
    },
    "tags": []
   },
   "outputs": [],
   "source": []
  }
 ],
 "metadata": {
  "kernelspec": {
   "display_name": "Python 3",
   "language": "python",
   "name": "python3"
  },
  "language_info": {
   "codemirror_mode": {
    "name": "ipython",
    "version": 3
   },
   "file_extension": ".py",
   "mimetype": "text/x-python",
   "name": "python",
   "nbconvert_exporter": "python",
   "pygments_lexer": "ipython3",
   "version": "3.7.12"
  },
  "papermill": {
   "default_parameters": {},
   "duration": 1758.120739,
   "end_time": "2022-10-26T03:13:20.976636",
   "environment_variables": {},
   "exception": null,
   "input_path": "__notebook__.ipynb",
   "output_path": "__notebook__.ipynb",
   "parameters": {},
   "start_time": "2022-10-26T02:44:02.855897",
   "version": "2.3.4"
  }
 },
 "nbformat": 4,
 "nbformat_minor": 5
}
